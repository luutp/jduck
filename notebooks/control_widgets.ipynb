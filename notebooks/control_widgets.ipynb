{
 "cells": [
  {
   "cell_type": "markdown",
   "id": "6aad6048",
   "metadata": {},
   "source": [
    "# Install Packages"
   ]
  },
  {
   "cell_type": "code",
   "execution_count": 1,
   "id": "9bb9244d",
   "metadata": {},
   "outputs": [],
   "source": [
    "import ipywidgets.widgets as widgets\n",
    "import Jetson.GPIO as GPIO\n",
    "import traitlets\n",
    "from traitlets.config.configurable import Configurable\n",
    "from traitlets.config.configurable import SingletonConfigurable\n",
    "\n",
    "# utils\n",
    "import time\n",
    "\n",
    "# jduck\n",
    "from jduck.robot import JDuck\n",
    "\n",
    "# GPIO\n",
    "GPIO.setwarnings(False)\n",
    "GPIO.setmode(GPIO.BOARD)"
   ]
  },
  {
   "cell_type": "markdown",
   "id": "704c0924",
   "metadata": {},
   "source": [
    "# Create Control Panel"
   ]
  },
  {
   "cell_type": "code",
   "execution_count": 2,
   "id": "8f59030f",
   "metadata": {},
   "outputs": [
    {
     "data": {
      "application/vnd.jupyter.widget-view+json": {
       "model_id": "255483742a5544bf88ddf1dc688ceafe",
       "version_major": 2,
       "version_minor": 0
      },
      "text/plain": [
       "HBox(children=(FloatSlider(value=0.0, description='speed', max=1.0, orientation='vertical', step=0.01), Button…"
      ]
     },
     "metadata": {},
     "output_type": "display_data"
    }
   ],
   "source": [
    "# Create slider to control jduck speed\n",
    "jduck_speed_slider = widgets.FloatSlider(description = 'speed', min = 0.0, max = 1.0, step = 0.01, orientation= 'vertical')\n",
    "\n",
    "# Control buttons\n",
    "button_layout = widgets.Layout(width = '100px', height = '80px', align_self = 'center')\n",
    "stop_button = widgets.Button(description = 'stop', button_style='danger', layout=button_layout)\n",
    "forward_button = widgets.Button(description = 'forward', layout=button_layout)\n",
    "backward_button = widgets.Button(description = 'backward', layout=button_layout)\n",
    "left_button = widgets.Button(description = 'left', layout=button_layout)\n",
    "right_button = widgets.Button(description = 'right', layout=button_layout)\n",
    "\n",
    "# Display control widget\n",
    "middle_box = widgets.VBox([forward_button, stop_button, backward_button], layout= widgets.Layout(align_self='center'))\n",
    "controls_box = widgets.HBox([jduck_speed_slider, left_button, middle_box, right_button]) \n",
    "display(controls_box)"
   ]
  },
  {
   "cell_type": "markdown",
   "id": "be071880",
   "metadata": {},
   "source": [
    "# Link control Panel to jduck"
   ]
  },
  {
   "cell_type": "code",
   "execution_count": 3,
   "id": "c485b5b9",
   "metadata": {},
   "outputs": [],
   "source": [
    "jduck = JDuck()\n",
    "def stop(change):\n",
    "    jduck.stop()\n",
    "    \n",
    "def move_forward(change):\n",
    "    jduck.move_forward()\n",
    "    time.sleep(0.5)\n",
    "\n",
    "def move_backward(change):\n",
    "    jduck.move_backward()\n",
    "    time.sleep(0.5)\n",
    "\n",
    "def turn_left(change):\n",
    "    jduck.turn_left()\n",
    "    time.sleep(0.1)\n",
    "    jduck.stop()\n",
    "\n",
    "def turn_right(change):\n",
    "    jduck.turn_right()\n",
    "    time.sleep(0.1)\n",
    "    jduck.stop()\n",
    "# link buttons to actions\n",
    "left_link = traitlets.dlink((jduck_speed_slider, 'value'), (jduck.left_motor, 'value'))\n",
    "right_link = traitlets.dlink((jduck_speed_slider, 'value'), (jduck.right_motor, 'value'))\n",
    "stop_button.on_click(stop)\n",
    "forward_button.on_click(move_forward)\n",
    "backward_button.on_click(move_backward)\n",
    "left_button.on_click(turn_left)\n",
    "right_button.on_click(turn_right)\n",
    "\n",
    "# After this step, the above control panel should be ready to move Jduck."
   ]
  }
 ],
 "metadata": {
  "kernelspec": {
   "display_name": "Python 3",
   "language": "python",
   "name": "python3"
  },
  "language_info": {
   "codemirror_mode": {
    "name": "ipython",
    "version": 3
   },
   "file_extension": ".py",
   "mimetype": "text/x-python",
   "name": "python",
   "nbconvert_exporter": "python",
   "pygments_lexer": "ipython3",
   "version": "3.6.9"
  }
 },
 "nbformat": 4,
 "nbformat_minor": 5
}
