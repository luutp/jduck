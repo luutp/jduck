{
 "cells": [
  {
   "cell_type": "markdown",
   "metadata": {},
   "source": [
    "# Import packages"
   ]
  },
  {
   "cell_type": "code",
<<<<<<< HEAD
   "execution_count": 4,
=======
   "execution_count": 13,
   "metadata": {},
   "outputs": [
    {
     "name": "stdout",
     "output_type": "stream",
     "text": [
      "Collecting tqdm\n",
      "  Downloading https://files.pythonhosted.org/packages/4e/8c/f1035bd24b0e352ddba7be320abc1603fc4c9976fcda6971ed287be59164/tqdm-4.58.0-py2.py3-none-any.whl (73kB)\n",
      "\u001b[K    100% |################################| 81kB 2.8MB/s ta 0:00:011\n",
      "\u001b[?25hInstalling collected packages: tqdm\n",
      "Successfully installed tqdm-4.58.0\n",
      "Note: you may need to restart the kernel to use updated packages.\n"
     ]
    }
   ],
   "source": [
    "pip install tqdm"
   ]
  },
  {
   "cell_type": "code",
   "execution_count": 2,
   "metadata": {},
   "outputs": [
    {
     "name": "stdout",
     "output_type": "stream",
     "text": [
      "\u001b[31mInvalid requirement: '/home/phatluu/jduck/'\n",
      "It looks like a path. Does it exist ?\u001b[0m\n",
      "Note: you may need to restart the kernel to use updated packages.\n"
     ]
    }
   ],
   "source": [
    "pip install /home/phatluu/jduck/"
   ]
  },
  {
   "cell_type": "code",
   "execution_count": 1,
   "metadata": {},
   "outputs": [
    {
     "name": "stdout",
     "output_type": "stream",
     "text": [
      "\u001b[31mDEPRECATION: The default format will switch to columns in the future. You can use --format=(legacy|columns) (or define a format=(legacy|columns) in your pip.conf under the [list] section) to disable this warning.\u001b[0m\n",
      "absl-py (0.11.0)\n",
      "Adafruit-GPIO (1.0.4)\n",
      "Adafruit-MotorHAT (1.4.0)\n",
      "Adafruit-PureIO (1.1.7)\n",
      "Adafruit-SSD1306 (1.6.2)\n",
      "appdirs (1.4.4)\n",
      "argon2-cffi (20.1.0)\n",
      "astor (0.8.1)\n",
      "async-generator (1.10)\n",
      "attrs (20.3.0)\n",
      "backcall (0.2.0)\n",
      "bleach (3.2.1)\n",
      "certifi (2020.11.8)\n",
      "cffi (1.14.3)\n",
      "chardet (3.0.4)\n",
      "Cython (0.29.21)\n",
      "dataclasses (0.7)\n",
      "decorator (4.4.2)\n",
      "defusedxml (0.6.0)\n",
      "entrypoints (0.3)\n",
      "funcsigs (1.0.2)\n",
      "future (0.17.1)\n",
      "futures (3.1.1)\n",
      "gast (0.2.2)\n",
      "google-pasta (0.2.0)\n",
      "grpcio (1.33.2)\n",
      "h5py (2.10.0)\n",
      "idna (2.10)\n",
      "importlib-metadata (2.0.0)\n",
      "ipykernel (5.3.4)\n",
      "ipython (7.16.1)\n",
      "ipython-genutils (0.2.0)\n",
      "ipywidgets (7.5.1)\n",
      "jedi (0.17.2)\n",
      "jetbot (0.4.1)\n",
      "Jetson.GPIO (2.0.15)\n",
      "Jinja2 (2.11.2)\n",
      "json5 (0.9.5)\n",
      "jsonschema (3.2.0)\n",
      "jupyter (1.0.0)\n",
      "jupyter-clickable-image-widget (0.1.0a0, /root/jupyter_clickable_image_widget)\n",
      "jupyter-client (6.1.7)\n",
      "jupyter-console (6.2.0)\n",
      "jupyter-core (4.6.3)\n",
      "jupyterlab (2.2.9)\n",
      "jupyterlab-pygments (0.1.2)\n",
      "jupyterlab-server (1.2.0)\n",
      "Keras-Applications (1.0.8)\n",
      "Keras-Preprocessing (1.0.5)\n",
      "Mako (1.1.3)\n",
      "Markdown (3.3.3)\n",
      "MarkupSafe (1.1.1)\n",
      "mistune (0.8.4)\n",
      "mock (3.0.5)\n",
      "nbclient (0.5.1)\n",
      "nbconvert (6.0.7)\n",
      "nbformat (5.0.8)\n",
      "nest-asyncio (1.4.2)\n",
      "notebook (6.1.5)\n",
      "numpy (1.19.2)\n",
      "opt-einsum (3.3.0)\n",
      "packaging (20.4)\n",
      "pandocfilters (1.4.3)\n",
      "parso (0.7.1)\n",
      "pexpect (4.8.0)\n",
      "pickleshare (0.7.5)\n",
      "Pillow (8.0.0)\n",
      "pip (9.0.1)\n",
      "prometheus-client (0.8.0)\n",
      "prompt-toolkit (3.0.8)\n",
      "protobuf (3.13.0)\n",
      "ptyprocess (0.6.0)\n",
      "pybind11 (2.6.0)\n",
      "pycparser (2.20)\n",
      "pycuda (2020.1)\n",
      "Pygments (2.7.2)\n",
      "pygobject (3.26.1)\n",
      "pyparsing (2.4.7)\n",
      "pyrsistent (0.17.3)\n",
      "python-dateutil (2.8.1)\n",
      "pytools (2020.4.3)\n",
      "pyzmq (19.0.2)\n",
      "qtconsole (4.7.7)\n",
      "QtPy (1.9.0)\n",
      "requests (2.24.0)\n",
      "Send2Trash (1.5.0)\n",
      "setuptools (50.3.2)\n",
      "six (1.15.0)\n",
      "spidev (3.5)\n",
      "tensorboard (1.15.0)\n",
      "tensorflow (1.15.2+nv)\n",
      "tensorflow-estimator (1.15.1)\n",
      "termcolor (1.1.0)\n",
      "terminado (0.9.1)\n",
      "testpath (0.4.4)\n",
      "torch (1.6.0)\n",
      "torch2trt (0.1.0)\n",
      "torchaudio (0.6.0a0+f17ae39)\n",
      "torchvision (0.7.0a0+78ed10c)\n",
      "tornado (6.1)\n",
      "tqdm (4.58.0)\n",
      "traitlets (5.0.0.dev0)\n",
      "urllib3 (1.25.11)\n",
      "wcwidth (0.2.5)\n",
      "webencodings (0.5.1)\n",
      "Werkzeug (1.0.1)\n",
      "wheel (0.35.1)\n",
      "widgetsnbextension (3.5.1)\n",
      "wrapt (1.12.1)\n",
      "zipp (3.4.0)\n",
      "Note: you may need to restart the kernel to use updated packages.\n"
     ]
    }
   ],
   "source": [
    "pip list"
   ]
  },
  {
   "cell_type": "code",
   "execution_count": 5,
>>>>>>> 74cc23c1f89b39f3af0acb989ddfe5a6f6ed1f98
   "metadata": {},
   "outputs": [
    {
     "ename": "ModuleNotFoundError",
     "evalue": "No module named 'jduck'",
     "output_type": "error",
     "traceback": [
      "\u001b[0;31m\u001b[0m",
      "\u001b[0;31mModuleNotFoundError\u001b[0mTraceback (most recent call last)",
<<<<<<< HEAD
      "\u001b[0;32m<ipython-input-4-6803c5f5166a>\u001b[0m in \u001b[0;36m<module>\u001b[0;34m\u001b[0m\n\u001b[1;32m      1\u001b[0m \u001b[0;32mimport\u001b[0m \u001b[0mipywidgets\u001b[0m\u001b[0;34m.\u001b[0m\u001b[0mwidgets\u001b[0m \u001b[0;32mas\u001b[0m \u001b[0mwidgets\u001b[0m\u001b[0;34m\u001b[0m\u001b[0;34m\u001b[0m\u001b[0m\n\u001b[0;32m----> 2\u001b[0;31m \u001b[0;32mfrom\u001b[0m \u001b[0mjduck\u001b[0m \u001b[0;32mimport\u001b[0m \u001b[0mJDuck\u001b[0m\u001b[0;34m\u001b[0m\u001b[0;34m\u001b[0m\u001b[0m\n\u001b[0m",
=======
      "\u001b[0;32m<ipython-input-5-7e7a3f0839b2>\u001b[0m in \u001b[0;36m<module>\u001b[0;34m\u001b[0m\n\u001b[0;32m----> 1\u001b[0;31m \u001b[0;32mfrom\u001b[0m \u001b[0mjduck\u001b[0m\u001b[0;34m.\u001b[0m\u001b[0mrobot\u001b[0m \u001b[0;32mimport\u001b[0m \u001b[0mJDuck\u001b[0m\u001b[0;34m\u001b[0m\u001b[0;34m\u001b[0m\u001b[0m\n\u001b[0m",
>>>>>>> 74cc23c1f89b39f3af0acb989ddfe5a6f6ed1f98
      "\u001b[0;31mModuleNotFoundError\u001b[0m: No module named 'jduck'"
     ]
    }
   ],
   "source": [
<<<<<<< HEAD
    "import ipywidgets.widgets as widgets\n",
    "from jduck import JDuck"
=======
    "from jduck.robot import JDuck"
   ]
  },
  {
   "cell_type": "code",
   "execution_count": 2,
   "metadata": {},
   "outputs": [],
   "source": [
    "import ipywidgets.widgets as widgets"
>>>>>>> 74cc23c1f89b39f3af0acb989ddfe5a6f6ed1f98
   ]
  },
  {
   "cell_type": "code",
   "execution_count": 5,
   "metadata": {},
   "outputs": [
    {
     "data": {
      "application/vnd.jupyter.widget-view+json": {
       "model_id": "0fc0a880fa3644e1a3b9058637595567",
       "version_major": 2,
       "version_minor": 0
      },
      "text/plain": [
       "HBox(children=(FloatSlider(value=0.0, description='speed', max=1.0, orientation='vertical', step=0.01), Button…"
      ]
     },
     "metadata": {},
     "output_type": "display_data"
    }
   ],
   "source": [
    "# Create slider to control jduck's speed\n",
    "jduck_speed_slider = widgets.FloatSlider(description='speed', min=0.0, max=1.0, step=0.01, orientation='vertical')\n",
    "\n",
    "# Control buttons\n",
    "button_layout = widgets.Layout(width='100px', height='80px', align_self='center')\n",
    "stop_button = widgets.Button(description='stop', button_style='danger', layout=button_layout)\n",
    "forward_button = widgets.Button(description='forward', layout=button_layout)\n",
    "backward_button = widgets.Button(description='backward', layout=button_layout)\n",
    "left_button = widgets.Button(description='left', layout=button_layout)\n",
    "right_button = widgets.Button(description='right', layout=button_layout)\n",
    "\n",
    "# Display Control Widgets\n",
    "middle_box = widgets.VBox([forward_button, stop_button, backward_button], layout=widgets.Layout(align_self='center'))\n",
    "controls_box = widgets.HBox([jduck_speed_slider,left_button, middle_box, right_button])\n",
    "display(controls_box)"
   ]
  },
  {
   "cell_type": "markdown",
   "metadata": {},
   "source": [
    "# Link Control Widget to jduck"
   ]
  },
  {
   "cell_type": "code",
   "execution_count": null,
   "metadata": {},
   "outputs": [],
   "source": [
    "def stop(change):\n",
    "    jduck.stop()\n",
    "    \n",
    "def move_forward(change):\n",
    "    jduck.move_forward()\n",
    "    time.sleep(0.5)\n",
    "\n",
    "def move_backward(change):\n",
    "    jduck.move_backward()\n",
    "    time.sleep(0.5)\n",
    "\n",
    "def turn_left(change):\n",
    "    jduck.turn_left()\n",
    "    time.sleep(0.1)\n",
    "    jduck.stop()\n",
    "\n",
    "def turn_right(change):\n",
    "    jduck.turn_right()\n",
    "    time.sleep(0.1)\n",
    "    jduck.stop()\n",
    "# link buttons to actions\n",
    "left_link = traitlets.dlink((jduck_speed_slider, 'value'), (jduck.left_motor, 'value'))\n",
    "right_link = traitlets.dlink((jduck_speed_slider, 'value'), (jduck.right_motor, 'value'))\n",
    "stop_button.on_click(stop)\n",
    "forward_button.on_click(move_forward)\n",
    "backward_button.on_click(move_backward)\n",
    "left_button.on_click(turn_left)\n",
    "right_button.on_click(turn_right)"
   ]
  }
 ],
 "metadata": {
  "kernelspec": {
   "display_name": "Python 3",
   "language": "python",
   "name": "python3"
  },
  "language_info": {
   "codemirror_mode": {
    "name": "ipython",
    "version": 3
   },
   "file_extension": ".py",
   "mimetype": "text/x-python",
   "name": "python",
   "nbconvert_exporter": "python",
   "pygments_lexer": "ipython3",
   "version": "3.6.9"
  }
 },
 "nbformat": 4,
 "nbformat_minor": 4
}
