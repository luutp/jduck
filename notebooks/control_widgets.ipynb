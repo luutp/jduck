{
 "cells": [
  {
   "cell_type": "code",
   "execution_count": 3,
   "id": "going-hamburg",
   "metadata": {},
   "outputs": [
    {
     "name": "stdout",
     "output_type": "stream",
     "text": [
      "Collecting Jetson.GPIO\n",
      "  Downloading https://files.pythonhosted.org/packages/82/9d/68cf7be584f4d7b1fcbbeb1e19015deb49c258a043c2336af2b780e66763/Jetson.GPIO-2.0.16.tar.gz\n",
      "Building wheels for collected packages: Jetson.GPIO\n",
      "  Running setup.py bdist_wheel for Jetson.GPIO ... \u001b[?25ldone\n",
      "\u001b[?25h  Stored in directory: /root/.cache/pip/wheels/ed/f8/03/c50a836008b75bb36ac4d005332091eb1574528221f64a2344\n",
      "Successfully built Jetson.GPIO\n",
      "Installing collected packages: Jetson.GPIO\n",
      "Successfully installed Jetson.GPIO-2.0.16\n",
      "Note: you may need to restart the kernel to use updated packages.\n"
     ]
    }
   ],
   "source": [
    "pip install Jetson.GPIO"
   ]
  },
  {
   "cell_type": "code",
   "execution_count": 14,
   "id": "limiting-container",
   "metadata": {},
   "outputs": [
    {
     "name": "stdout",
     "output_type": "stream",
     "text": [
      "Reading package lists... Done\n",
      "Building dependency tree       \n",
      "Reading state information... Done\n",
      "The following NEW packages will be installed:\n",
      "  busybox\n",
      "0 upgraded, 1 newly installed, 0 to remove and 57 not upgraded.\n",
      "Need to get 366 kB of archives.\n",
      "After this operation, 781 kB of additional disk space will be used.\n",
      "Get:1 http://ports.ubuntu.com/ubuntu-ports bionic-updates/universe arm64 busybox arm64 1:1.27.2-2ubuntu3.3 [366 kB]\n",
      "Fetched 366 kB in 1s (294 kB/s)   \n",
      "debconf: delaying package configuration, since apt-utils is not installed\n",
      "Selecting previously unselected package busybox.\n",
      "(Reading database ... 48644 files and directories currently installed.)\n",
      "Preparing to unpack .../busybox_1%3a1.27.2-2ubuntu3.3_arm64.deb ...\n",
      "Unpacking busybox (1:1.27.2-2ubuntu3.3) ...\n",
      "Setting up busybox (1:1.27.2-2ubuntu3.3) ...\n"
     ]
    }
   ],
   "source": [
    "!apt-get install busybox"
   ]
  },
  {
   "cell_type": "code",
   "execution_count": 15,
   "id": "broken-fusion",
   "metadata": {},
   "outputs": [],
   "source": [
    "# Enable Pin 32 / PWM0 from terminal \n",
    "!busybox devmem 0x700031fc 32 0x45\n",
    "!busybox devmem 0x6000d504 32 0x2\n",
    "# Enable Pin 33 / PWM2\n",
    "!busybox devmem 0x70003248 32 0x46\n",
    "!busybox devmem 0x6000d100 32 0x00"
   ]
  },
  {
   "cell_type": "code",
   "execution_count": 1,
   "id": "synthetic-mumbai",
   "metadata": {},
   "outputs": [],
   "source": [
    "import ipywidgets.widgets as widgets\n",
    "import Jetson.GPIO as GPIO\n",
    "import traitlets\n",
    "from traitlets.config.configurable import Configurable\n",
    "from traitlets.config.configurable import SingletonConfigurable\n",
    "import time\n",
    "GPIO.setwarnings(False)\n",
    "GPIO.setmode(GPIO.BOARD)"
   ]
  },
  {
   "cell_type": "code",
   "execution_count": 2,
   "id": "bridal-patient",
   "metadata": {},
   "outputs": [],
   "source": [
    "class DCMotor(Configurable):\n",
    "    value = traitlets.Float()\n",
    "\n",
    "    def __init__(self, pwm_pin, ctrl_pin1, ctrl_pin2, **kwargs):\n",
    "        self.pwm_pin = pwm_pin\n",
    "        self.ctrl_pin1 = ctrl_pin1\n",
    "        self.ctrl_pin2 = ctrl_pin2\n",
    "        # Motor calibration\n",
    "        self.alpha = kwargs.get('alpha', 1.0)\n",
    "        self.beta = kwargs.get('beta', 0.0)\n",
    "        # GPIO setup\n",
    "        GPIO.setup(self.pwm_pin, GPIO.OUT)\n",
    "        self.pwm = GPIO.PWM(self.pwm_pin, 50)  # (channel, frequency)\n",
    "        self.pwm.start(0)\n",
    "        self.speed = 0\n",
    "        GPIO.setup(self.ctrl_pin1, GPIO.OUT, initial=GPIO.LOW)\n",
    "        GPIO.setup(self.ctrl_pin2, GPIO.OUT, initial=GPIO.LOW)\n",
    "\n",
    "    @traitlets.observe('value')\n",
    "    def _observe_value(self, change):\n",
    "        self._write_value(change['new'])\n",
    "\n",
    "    def _write_value(self, value):\n",
    "        \"\"\"Sets motor value between [-1, 1]\"\"\"\n",
    "        mapped_value = int(100.0 * (self.alpha * value + self.beta))\n",
    "        speed = min(max(abs(mapped_value), 0), 100)\n",
    "        self.set_speed(speed)\n",
    "        if mapped_value > 0:\n",
    "            self.rotate_forward()\n",
    "        else:\n",
    "            self.rotate_backward()\n",
    "\n",
    "    def set_speed(self, normalized_speed):\n",
    "        # normalized_speed in percentange from 0 - 100\n",
    "        self.pwm.ChangeDutyCycle(normalized_speed)\n",
    "        self.speed = normalized_speed\n",
    "\n",
    "    def rotate_forward(self):\n",
    "        GPIO.output(self.ctrl_pin1, GPIO.LOW)\n",
    "        GPIO.output(self.ctrl_pin2, GPIO.HIGH)\n",
    "\n",
    "    def rotate_backward(self):\n",
    "        GPIO.output(self.ctrl_pin1, GPIO.HIGH)\n",
    "        GPIO.output(self.ctrl_pin2, GPIO.LOW)\n",
    "\n",
    "    def stop(self):\n",
    "        GPIO.output(self.ctrl_pin1, GPIO.LOW)\n",
    "        GPIO.output(self.ctrl_pin2, GPIO.LOW)\n",
    "\n",
    "class JDuck(SingletonConfigurable):\n",
    "    def __init__(self, *args, **kwargs):\n",
    "        self.left_motor = DCMotor(32, 36, 38, alpha=1.0)\n",
    "        self.right_motor = DCMotor(33, 35, 37, alpha=1.0)\n",
    "        self.left_motor.set_speed(50)\n",
    "        self.right_motor.set_speed(50)\n",
    "\n",
    "    def set_speeds(self, left_speed, right_speed):\n",
    "        self.left_motor.set_speed(left_speed)\n",
    "        self.right_motor.set_speed(right_speed)\n",
    "\n",
    "    def move_forward(self):\n",
    "        self.left_motor.rotate_forward()\n",
    "        self.right_motor.rotate_forward()\n",
    "\n",
    "    def move_backward(self):\n",
    "        self.left_motor.rotate_backward()\n",
    "        self.right_motor.rotate_backward()\n",
    "\n",
    "    def turn_left(self):\n",
    "        self.left_motor.rotate_backward()\n",
    "        self.right_motor.rotate_forward()\n",
    "\n",
    "    def turn_right(self):\n",
    "        self.left_motor.rotate_forward()\n",
    "        self.right_motor.rotate_backward()\n",
    "\n",
    "    def stop(self):\n",
    "        self.left_motor.stop()\n",
    "        self.right_motor.stop()"
   ]
  },
  {
   "cell_type": "code",
   "execution_count": 3,
   "id": "informed-orientation",
   "metadata": {},
   "outputs": [
    {
     "data": {
      "application/vnd.jupyter.widget-view+json": {
       "model_id": "24fe4d398ebb43309156b410e4f9af3a",
       "version_major": 2,
       "version_minor": 0
      },
      "text/plain": [
       "HBox(children=(FloatSlider(value=0.0, description='speed', max=1.0, orientation='vertical', step=0.01), Button…"
      ]
     },
     "metadata": {},
     "output_type": "display_data"
    }
   ],
   "source": [
    "# Create slider to control jduck's speed\n",
    "jduck_speed_slider = widgets.FloatSlider(description='speed', min=0.0, max=1.0, step=0.01, orientation='vertical')\n",
    "\n",
    "# Control buttons\n",
    "button_layout = widgets.Layout(width='100px', height='80px', align_self='center')\n",
    "stop_button = widgets.Button(description='stop', button_style='danger', layout=button_layout)\n",
    "forward_button = widgets.Button(description='forward', layout=button_layout)\n",
    "backward_button = widgets.Button(description='backward', layout=button_layout)\n",
    "left_button = widgets.Button(description='left', layout=button_layout)\n",
    "right_button = widgets.Button(description='right', layout=button_layout)\n",
    "\n",
    "# Display Control Widgets\n",
    "middle_box = widgets.VBox([forward_button, stop_button, backward_button], layout=widgets.Layout(align_self='center'))\n",
    "controls_box = widgets.HBox([jduck_speed_slider,left_button, middle_box, right_button])\n",
    "display(controls_box)\n",
    "\n",
    "jduck = JDuck()\n",
    "def stop(change):\n",
    "    jduck.stop()\n",
    "    \n",
    "def move_forward(change):\n",
    "    jduck.move_forward()\n",
    "    time.sleep(0.5)\n",
    "\n",
    "def move_backward(change):\n",
    "    jduck.move_backward()\n",
    "    time.sleep(0.5)\n",
    "\n",
    "def turn_left(change):\n",
    "    jduck.turn_left()\n",
    "    time.sleep(0.1)\n",
    "    jduck.stop()\n",
    "\n",
    "def turn_right(change):\n",
    "    jduck.turn_right()\n",
    "    time.sleep(0.1)\n",
    "    jduck.stop()\n",
    "# link buttons to actions\n",
    "left_link = traitlets.dlink((jduck_speed_slider, 'value'), (jduck.left_motor, 'value'))\n",
    "right_link = traitlets.dlink((jduck_speed_slider, 'value'), (jduck.right_motor, 'value'))\n",
    "stop_button.on_click(stop)\n",
    "forward_button.on_click(move_forward)\n",
    "backward_button.on_click(move_backward)\n",
    "left_button.on_click(turn_left)\n",
    "right_button.on_click(turn_right)"
   ]
  }
 ],
 "metadata": {
  "kernelspec": {
   "display_name": "Python 3",
   "language": "python",
   "name": "python3"
  },
  "language_info": {
   "codemirror_mode": {
    "name": "ipython",
    "version": 3
   },
   "file_extension": ".py",
   "mimetype": "text/x-python",
   "name": "python",
   "nbconvert_exporter": "python",
   "pygments_lexer": "ipython3",
   "version": "3.6.9"
  }
 },
 "nbformat": 4,
 "nbformat_minor": 5
}
