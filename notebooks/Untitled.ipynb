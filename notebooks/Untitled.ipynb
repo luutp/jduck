{
 "cells": [
  {
   "cell_type": "code",
   "execution_count": 1,
   "id": "polar-blanket",
   "metadata": {},
   "outputs": [],
   "source": [
    "from jduck.utils.logging_config import logger as logging"
   ]
  },
  {
   "cell_type": "code",
   "execution_count": 2,
   "id": "clinical-burner",
   "metadata": {},
   "outputs": [
    {
     "name": "stdout",
     "output_type": "stream",
     "text": [
      " \u001b[38;5;122m \u001b[1m210314-06:08|<ipython-input-2-1e24994359dc>:1|INFO|\u001b[0m \u001b[38;5;200m Hello\u001b[0m\n"
     ]
    }
   ],
   "source": [
    "logging.info('Hello')"
   ]
  },
  {
   "cell_type": "code",
   "execution_count": 1,
   "id": "median-nowhere",
   "metadata": {},
   "outputs": [],
   "source": [
    "from jduck.robot import JDuck\n",
    "jduck = JDuck()"
   ]
  },
  {
   "cell_type": "code",
   "execution_count": 2,
   "id": "defined-freedom",
   "metadata": {},
   "outputs": [],
   "source": [
    "jduck.move_forward()"
   ]
  },
  {
   "cell_type": "code",
   "execution_count": 5,
   "id": "golden-ensemble",
   "metadata": {},
   "outputs": [],
   "source": [
    "jduck.stop()"
   ]
  },
  {
   "cell_type": "code",
   "execution_count": 4,
   "id": "brown-radical",
   "metadata": {},
   "outputs": [],
   "source": [
    "jduck.move_backward()"
   ]
  }
 ],
 "metadata": {
  "kernelspec": {
   "display_name": "Python 3",
   "language": "python",
   "name": "python3"
  },
  "language_info": {
   "codemirror_mode": {
    "name": "ipython",
    "version": 3
   },
   "file_extension": ".py",
   "mimetype": "text/x-python",
   "name": "python",
   "nbconvert_exporter": "python",
   "pygments_lexer": "ipython3",
   "version": "3.6.9"
  }
 },
 "nbformat": 4,
 "nbformat_minor": 5
}
