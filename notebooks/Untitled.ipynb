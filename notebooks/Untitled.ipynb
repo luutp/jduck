{
 "cells": [
  {
   "cell_type": "code",
   "execution_count": 1,
   "id": "eligible-impossible",
   "metadata": {},
   "outputs": [],
   "source": [
    "from jduck.utils.logging_config import logger as logging"
   ]
  },
  {
   "cell_type": "code",
   "execution_count": 2,
   "id": "equivalent-depression",
   "metadata": {},
   "outputs": [
    {
     "name": "stdout",
     "output_type": "stream",
     "text": [
      " \u001b[38;5;122m \u001b[1m210308-12:59|<ipython-input-2-1e24994359dc>:1|INFO|\u001b[0m \u001b[38;5;200m Hello\u001b[0m\n"
     ]
    }
   ],
   "source": [
    "logging.info('Hello')"
   ]
  },
  {
   "cell_type": "code",
   "execution_count": 4,
   "id": "incorporated-retention",
   "metadata": {},
   "outputs": [
    {
     "ename": "ModuleNotFoundError",
     "evalue": "No module named 'DCMotor'",
     "output_type": "error",
     "traceback": [
      "\u001b[0;31m\u001b[0m",
      "\u001b[0;31mModuleNotFoundError\u001b[0mTraceback (most recent call last)",
      "\u001b[0;32m<ipython-input-4-7e7a3f0839b2>\u001b[0m in \u001b[0;36m<module>\u001b[0;34m\u001b[0m\n\u001b[0;32m----> 1\u001b[0;31m \u001b[0;32mfrom\u001b[0m \u001b[0mjduck\u001b[0m\u001b[0;34m.\u001b[0m\u001b[0mrobot\u001b[0m \u001b[0;32mimport\u001b[0m \u001b[0mJDuck\u001b[0m\u001b[0;34m\u001b[0m\u001b[0;34m\u001b[0m\u001b[0m\n\u001b[0m",
      "\u001b[0;32m/usr/local/lib/python3.6/dist-packages/jduck-0.1.0-py3.6.egg/jduck/robot.py\u001b[0m in \u001b[0;36m<module>\u001b[0;34m\u001b[0m\n\u001b[1;32m     14\u001b[0m \u001b[0;32mfrom\u001b[0m \u001b[0mtraitlets\u001b[0m\u001b[0;34m.\u001b[0m\u001b[0mconfig\u001b[0m\u001b[0;34m.\u001b[0m\u001b[0mconfigurable\u001b[0m \u001b[0;32mimport\u001b[0m \u001b[0mSingletonConfigurable\u001b[0m\u001b[0;34m\u001b[0m\u001b[0;34m\u001b[0m\u001b[0m\n\u001b[1;32m     15\u001b[0m \u001b[0;34m\u001b[0m\u001b[0m\n\u001b[0;32m---> 16\u001b[0;31m \u001b[0;32mfrom\u001b[0m \u001b[0mDCMotor\u001b[0m \u001b[0;32mimport\u001b[0m \u001b[0mDCMotor\u001b[0m\u001b[0;34m\u001b[0m\u001b[0;34m\u001b[0m\u001b[0m\n\u001b[0m\u001b[1;32m     17\u001b[0m \u001b[0;34m\u001b[0m\u001b[0m\n\u001b[1;32m     18\u001b[0m \u001b[0;31m# ================================================================================\u001b[0m\u001b[0;34m\u001b[0m\u001b[0;34m\u001b[0m\u001b[0;34m\u001b[0m\u001b[0m\n",
      "\u001b[0;31mModuleNotFoundError\u001b[0m: No module named 'DCMotor'"
     ]
    }
   ],
   "source": [
    "from jduck.robot import JDuck"
   ]
  },
  {
   "cell_type": "code",
   "execution_count": 1,
   "id": "ecological-redhead",
   "metadata": {},
   "outputs": [
    {
     "ename": "ImportError",
     "evalue": "cannot import name 'Camera'",
     "output_type": "error",
     "traceback": [
      "\u001b[0;31m\u001b[0m",
      "\u001b[0;31mImportError\u001b[0mTraceback (most recent call last)",
      "\u001b[0;32m<ipython-input-1-b0cac6b4eecc>\u001b[0m in \u001b[0;36m<module>\u001b[0;34m\u001b[0m\n\u001b[0;32m----> 1\u001b[0;31m \u001b[0;32mfrom\u001b[0m \u001b[0mjduck\u001b[0m \u001b[0;32mimport\u001b[0m \u001b[0mCamera\u001b[0m\u001b[0;34m\u001b[0m\u001b[0;34m\u001b[0m\u001b[0m\n\u001b[0m",
      "\u001b[0;31mImportError\u001b[0m: cannot import name 'Camera'"
     ]
    }
   ],
   "source": [
    "from jduck import Camera"
   ]
  },
  {
   "cell_type": "code",
   "execution_count": null,
   "id": "ongoing-albuquerque",
   "metadata": {},
   "outputs": [],
   "source": []
  }
 ],
 "metadata": {
  "kernelspec": {
   "display_name": "Python 3",
   "language": "python",
   "name": "python3"
  },
  "language_info": {
   "codemirror_mode": {
    "name": "ipython",
    "version": 3
   },
   "file_extension": ".py",
   "mimetype": "text/x-python",
   "name": "python",
   "nbconvert_exporter": "python",
   "pygments_lexer": "ipython3",
   "version": "3.6.9"
  }
 },
 "nbformat": 4,
 "nbformat_minor": 5
}
