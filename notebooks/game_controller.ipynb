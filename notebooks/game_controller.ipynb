{
 "cells": [
  {
   "cell_type": "code",
   "execution_count": 8,
   "id": "humanitarian-placement",
   "metadata": {},
   "outputs": [],
   "source": [
    "# Enable Pin 32 / PWM0 from terminal \n",
    "!busybox devmem 0x700031fc 32 0x45\n",
    "!busybox devmem 0x6000d504 32 0x2\n",
    "# Enable Pin 33 / PWM2\n",
    "!busybox devmem 0x70003248 32 0x46\n",
    "!busybox devmem 0x6000d100 32 0x00"
   ]
  },
  {
   "cell_type": "code",
   "execution_count": 1,
   "id": "compatible-neighbor",
   "metadata": {},
   "outputs": [],
   "source": [
    "import ipywidgets.widgets as widgets\n",
    "import Jetson.GPIO as GPIO\n",
    "import traitlets\n",
    "from traitlets.config.configurable import Configurable\n",
    "from traitlets.config.configurable import SingletonConfigurable\n",
    "import time\n",
    "GPIO.setwarnings(False)\n",
    "GPIO.setmode(GPIO.BOARD)"
   ]
  },
  {
   "cell_type": "code",
   "execution_count": 2,
   "id": "located-suspect",
   "metadata": {},
   "outputs": [],
   "source": [
    "class DCMotor(Configurable):\n",
    "    value = traitlets.Float()\n",
    "\n",
    "    def __init__(self, pwm_pin, ctrl_pin1, ctrl_pin2, **kwargs):\n",
    "        self.pwm_pin = pwm_pin\n",
    "        self.ctrl_pin1 = ctrl_pin1\n",
    "        self.ctrl_pin2 = ctrl_pin2\n",
    "        # Motor calibration\n",
    "        self.alpha = kwargs.get('alpha', 1.0)\n",
    "        self.beta = kwargs.get('beta', 0.0)\n",
    "        # GPIO setup\n",
    "        GPIO.setup(self.pwm_pin, GPIO.OUT)\n",
    "        self.pwm = GPIO.PWM(self.pwm_pin, 50)  # (channel, frequency)\n",
    "        self.pwm.start(0)\n",
    "        self.speed = 0\n",
    "        GPIO.setup(self.ctrl_pin1, GPIO.OUT, initial=GPIO.LOW)\n",
    "        GPIO.setup(self.ctrl_pin2, GPIO.OUT, initial=GPIO.LOW)\n",
    "\n",
    "    @traitlets.observe('value')\n",
    "    def _observe_value(self, change):\n",
    "        self._write_value(change['new'])\n",
    "\n",
    "    def _write_value(self, value):\n",
    "        \"\"\"Sets motor value between [-1, 1]\"\"\"\n",
    "        mapped_value = int(100.0 * (self.alpha * value + self.beta))\n",
    "        speed = min(max(abs(mapped_value), 0), 100)\n",
    "        self.set_speed(speed)\n",
    "        if mapped_value > 0:\n",
    "            self.rotate_forward()\n",
    "        else:\n",
    "            self.rotate_backward()\n",
    "\n",
    "    def set_speed(self, normalized_speed):\n",
    "        # normalized_speed in percentange from 0 - 100\n",
    "        self.pwm.ChangeDutyCycle(normalized_speed)\n",
    "        self.speed = normalized_speed\n",
    "\n",
    "    def rotate_forward(self):\n",
    "        GPIO.output(self.ctrl_pin1, GPIO.LOW)\n",
    "        GPIO.output(self.ctrl_pin2, GPIO.HIGH)\n",
    "\n",
    "    def rotate_backward(self):\n",
    "        GPIO.output(self.ctrl_pin1, GPIO.HIGH)\n",
    "        GPIO.output(self.ctrl_pin2, GPIO.LOW)\n",
    "\n",
    "    def stop(self):\n",
    "        GPIO.output(self.ctrl_pin1, GPIO.LOW)\n",
    "        GPIO.output(self.ctrl_pin2, GPIO.LOW)\n",
    "\n",
    "class JDuck(SingletonConfigurable):\n",
    "    def __init__(self, *args, **kwargs):\n",
    "        self.left_motor = DCMotor(32, 36, 38, alpha=1.0)\n",
    "        self.right_motor = DCMotor(33, 35, 37, alpha=1.0)\n",
    "        self.left_motor.set_speed(50)\n",
    "        self.right_motor.set_speed(50)\n",
    "\n",
    "    def set_speeds(self, left_speed, right_speed):\n",
    "        self.left_motor.set_speed(left_speed)\n",
    "        self.right_motor.set_speed(right_speed)\n",
    "\n",
    "    def move_forward(self):\n",
    "        self.left_motor.rotate_forward()\n",
    "        self.right_motor.rotate_forward()\n",
    "\n",
    "    def move_backward(self):\n",
    "        self.left_motor.rotate_backward()\n",
    "        self.right_motor.rotate_backward()\n",
    "\n",
    "    def turn_left(self):\n",
    "        self.left_motor.rotate_backward()\n",
    "        self.right_motor.rotate_forward()\n",
    "\n",
    "    def turn_right(self):\n",
    "        self.left_motor.rotate_forward()\n",
    "        self.right_motor.rotate_backward()\n",
    "\n",
    "    def stop(self):\n",
    "        self.left_motor.stop()\n",
    "        self.right_motor.stop()"
   ]
  },
  {
   "cell_type": "code",
   "execution_count": 4,
   "id": "circular-method",
   "metadata": {},
   "outputs": [
    {
     "data": {
      "application/vnd.jupyter.widget-view+json": {
       "model_id": "1913634da7ef47aca9802e7cd5a2819d",
       "version_major": 2,
       "version_minor": 0
      },
      "text/plain": [
       "Controller()"
      ]
     },
     "metadata": {},
     "output_type": "display_data"
    }
   ],
   "source": [
    "controller = widgets.Controller(index=0)  # replace with index of your controller\n",
    "display(controller)"
   ]
  },
  {
   "cell_type": "code",
   "execution_count": 10,
   "id": "right-inspector",
   "metadata": {},
   "outputs": [],
   "source": [
    "jduck = JDuck()"
   ]
  },
  {
   "cell_type": "code",
   "execution_count": 11,
   "id": "passing-lithuania",
   "metadata": {},
   "outputs": [],
   "source": [
    "left_link = traitlets.dlink((controller.axes[1], 'value'), (jduck.left_motor, 'value'))\n",
    "right_link = traitlets.dlink((controller.axes[3], 'value'), (jduck.right_motor, 'value'))"
   ]
  }
 ],
 "metadata": {
  "kernelspec": {
   "display_name": "Python 3",
   "language": "python",
   "name": "python3"
  },
  "language_info": {
   "codemirror_mode": {
    "name": "ipython",
    "version": 3
   },
   "file_extension": ".py",
   "mimetype": "text/x-python",
   "name": "python",
   "nbconvert_exporter": "python",
   "pygments_lexer": "ipython3",
   "version": "3.6.9"
  }
 },
 "nbformat": 4,
 "nbformat_minor": 5
}
