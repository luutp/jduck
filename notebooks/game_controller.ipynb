{
 "cells": [
  {
   "cell_type": "markdown",
   "id": "55634e03",
   "metadata": {},
   "source": [
    "# Install Packages"
   ]
  },
  {
   "cell_type": "code",
   "execution_count": 2,
   "id": "8848d5f8",
   "metadata": {},
   "outputs": [],
   "source": [
    "import ipywidgets.widgets as widgets\n",
    "import Jetson.GPIO as GPIO\n",
    "import traitlets\n",
    "from traitlets.config.configurable import Configurable\n",
    "from traitlets.config.configurable import SingletonConfigurable\n",
    "\n",
    "# utils\n",
    "import time\n",
    "\n",
    "# jduck\n",
    "from jduck.robot import JDuck\n",
    "\n",
    "# GPIO\n",
    "GPIO.setwarnings(False)\n",
    "GPIO.setmode(GPIO.BOARD)"
   ]
  },
  {
   "cell_type": "markdown",
   "id": "d9636e94",
   "metadata": {},
   "source": [
    "# Connect to gamepad controller\n",
    "This part creates a controller object for your gamepad controller.\n",
    "controller = widgets.Controller(index=0)  # replace with index of your controller\n",
    "\n",
    "The default value of index is 0. In case you have multiple controllers connected to your host PC, the controller index can be specified by:\n",
    "\n",
    "- Visit http://html5gamepad.com.\n",
    "- Press buttons on the gamepad you're using\n",
    "- Remember the index of the gamepad that is responding to the button presses"
   ]
  },
  {
   "cell_type": "code",
   "execution_count": 3,
   "id": "35295a74",
   "metadata": {},
   "outputs": [
    {
     "data": {
      "application/vnd.jupyter.widget-view+json": {
       "model_id": "343127aa8c214bcaa4bcb69b1b70a5d6",
       "version_major": 2,
       "version_minor": 0
      },
      "text/plain": [
       "Controller()"
      ]
     },
     "metadata": {},
     "output_type": "display_data"
    }
   ],
   "source": [
    "controller = widgets.Controller(index=0)  # replace with index of your controller\n",
    "display(controller)"
   ]
  },
  {
   "cell_type": "markdown",
   "id": "97b19f02",
   "metadata": {},
   "source": [
    "# Create jduck object"
   ]
  },
  {
   "cell_type": "code",
   "execution_count": 4,
   "id": "daa11d8b",
   "metadata": {},
   "outputs": [],
   "source": [
    "jduck = JDuck()"
   ]
  },
  {
   "cell_type": "markdown",
   "id": "0df894ed",
   "metadata": {},
   "source": [
    "# Link jduck to gamepad controller"
   ]
  },
  {
   "cell_type": "code",
   "execution_count": 5,
   "id": "baac6f92",
   "metadata": {},
   "outputs": [],
   "source": [
    "left_link = traitlets.dlink((controller.axes[1], 'value'), (jduck.left_motor, 'value'))\n",
    "right_link = traitlets.dlink((controller.axes[3], 'value'), (jduck.right_motor, 'value'))\n",
    "# After this step, the gamepad controller is ready to move jduck robot."
   ]
  }
 ],
 "metadata": {
  "kernelspec": {
   "display_name": "Python 3",
   "language": "python",
   "name": "python3"
  },
  "language_info": {
   "codemirror_mode": {
    "name": "ipython",
    "version": 3
   },
   "file_extension": ".py",
   "mimetype": "text/x-python",
   "name": "python",
   "nbconvert_exporter": "python",
   "pygments_lexer": "ipython3",
   "version": "3.6.9"
  }
 },
 "nbformat": 4,
 "nbformat_minor": 5
}
