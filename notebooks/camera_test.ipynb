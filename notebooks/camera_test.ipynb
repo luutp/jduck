{
 "cells": [
  {
   "cell_type": "code",
   "execution_count": 1,
   "id": "challenging-cookbook",
   "metadata": {},
   "outputs": [],
   "source": [
    "import os\n",
    "\n",
    "DEFAULT_CAMERA = os.environ.get('JETBOT_DEFAULT_CAMERA', 'opencv_gst_camera')"
   ]
  },
  {
   "cell_type": "code",
   "execution_count": 2,
   "id": "metropolitan-sample",
   "metadata": {},
   "outputs": [
    {
     "name": "stdout",
     "output_type": "stream",
     "text": [
      "opencv_gst_camera\n"
     ]
    }
   ],
   "source": [
    "print(DEFAULT_CAMERA)"
   ]
  },
  {
   "cell_type": "code",
   "execution_count": 13,
   "id": "functional-university",
   "metadata": {},
   "outputs": [
    {
     "name": "stdout",
     "output_type": "stream",
     "text": [
      "System has not been booted with systemd as init system (PID 1). Can't operate.\n"
     ]
    }
   ],
   "source": [
    "!systemctl restart nvargus-daemon"
   ]
  },
  {
   "cell_type": "code",
   "execution_count": 2,
   "id": "little-stability",
   "metadata": {},
   "outputs": [],
   "source": [
    "import cv2\n",
    "# gstreamer_pipeline returns a GStreamer pipeline for capturing from the CSI camera\n",
    "# Defaults to 1280x720 @ 60fps\n",
    "# Flip the image by setting the flip_method (most common values: 0 and 2)\n",
    "# display_width and display_height determine the size of the window on the screen\n",
    "def gstreamer_pipeline(\n",
    "    capture_width=1280,\n",
    "    capture_height=720,\n",
    "    display_width=1280,\n",
    "    display_height=720,\n",
    "    framerate=60,\n",
    "    flip_method=0,\n",
    "):\n",
    "    return (\n",
    "        \"nvarguscamerasrc ! \"\n",
    "        \"video/x-raw(memory:NVMM), \"\n",
    "        \"width=(int)%d, height=(int)%d, \"\n",
    "        \"format=(string)NV12, framerate=(fraction)%d/1 ! \"\n",
    "        \"nvvidconv flip-method=%d ! \"\n",
    "        \"video/x-raw, width=(int)%d, height=(int)%d, format=(string)BGRx ! \"\n",
    "        \"videoconvert ! \"\n",
    "        \"video/x-raw, format=(string)BGR ! appsink\"\n",
    "        % (\n",
    "            capture_width,\n",
    "            capture_height,\n",
    "            framerate,\n",
    "            flip_method,\n",
    "            display_width,\n",
    "            display_height,\n",
    "        )\n",
    "    )\n",
    "\n",
    "def show_camera():\n",
    "    # To flip the image, modify the flip_method parameter (0 and 2 are the most common)\n",
    "    print(gstreamer_pipeline(flip_method=0))\n",
    "    cap = cv2.VideoCapture(gstreamer_pipeline(flip_method=0), cv2.CAP_GSTREAMER)\n",
    "    if cap.isOpened():\n",
    "        window_handle = cv2.namedWindow(\"CSI Camera\", cv2.WINDOW_AUTOSIZE)\n",
    "        # Window\n",
    "        while cv2.getWindowProperty(\"CSI Camera\", 0) >= 0:\n",
    "            ret_val, img = cap.read()\n",
    "            cv2.imshow(\"CSI Camera\", img)\n",
    "            # This also acts as\n",
    "            print('Streaming')\n",
    "            keyCode = cv2.waitKey(30) & 0xFF\n",
    "            # Stop the program on the ESC key\n",
    "            if keyCode == 27:\n",
    "                break\n",
    "        cap.release()\n",
    "        cv2.destroyAllWindows()\n",
    "    else:\n",
    "        print(\"Unable to open camera\")"
   ]
  },
  {
   "cell_type": "code",
   "execution_count": 3,
   "id": "electoral-geography",
   "metadata": {},
   "outputs": [
    {
     "name": "stdout",
     "output_type": "stream",
     "text": [
      "nvarguscamerasrc ! video/x-raw(memory:NVMM), width=(int)1280, height=(int)720, format=(string)NV12, framerate=(fraction)60/1 ! nvvidconv flip-method=0 ! video/x-raw, width=(int)1280, height=(int)720, format=(string)BGRx ! videoconvert ! video/x-raw, format=(string)BGR ! appsink\n"
     ]
    }
   ],
   "source": [
    "print(gstreamer_pipeline(flip_method=0))"
   ]
  },
  {
   "cell_type": "code",
   "execution_count": 4,
   "id": "exclusive-forth",
   "metadata": {},
   "outputs": [],
   "source": [
    "cap = cv2.VideoCapture(gstreamer_pipeline(flip_method=0), cv2.CAP_GSTREAMER)"
   ]
  },
  {
   "cell_type": "code",
   "execution_count": 5,
   "id": "included-toddler",
   "metadata": {},
   "outputs": [
    {
     "name": "stdout",
     "output_type": "stream",
     "text": [
      "True\n"
     ]
    }
   ],
   "source": [
    "print(cap.isOpened())"
   ]
  },
  {
   "cell_type": "code",
   "execution_count": null,
   "id": "optimum-northern",
   "metadata": {},
   "outputs": [],
   "source": [
    "window_handle = cv2.namedWindow(\"CSI Camera\", cv2.WINDOW_AUTOSIZE)"
   ]
  },
  {
   "cell_type": "code",
   "execution_count": 6,
   "id": "juvenile-parent",
   "metadata": {},
   "outputs": [],
   "source": [
    "ret_val, img = cap.read()"
   ]
  },
  {
   "cell_type": "code",
   "execution_count": 7,
   "id": "direct-beaver",
   "metadata": {},
   "outputs": [
    {
     "name": "stdout",
     "output_type": "stream",
     "text": [
      "False\n"
     ]
    }
   ],
   "source": [
    "print(ret_val)"
   ]
  },
  {
   "cell_type": "code",
   "execution_count": 7,
   "id": "commercial-photography",
   "metadata": {},
   "outputs": [
    {
     "name": "stdout",
     "output_type": "stream",
     "text": [
      "None\n"
     ]
    }
   ],
   "source": [
    "print(img)"
   ]
  },
  {
   "cell_type": "code",
   "execution_count": 6,
   "id": "architectural-venture",
   "metadata": {},
   "outputs": [
    {
     "ename": "error",
     "evalue": "OpenCV(4.1.1) /home/nvidia/host/build_opencv/nv_opencv/modules/highgui/src/window.cpp:352: error: (-215:Assertion failed) size.width>0 && size.height>0 in function 'imshow'\n",
     "output_type": "error",
     "traceback": [
      "\u001b[0;31m\u001b[0m",
      "\u001b[0;31merror\u001b[0mTraceback (most recent call last)",
      "\u001b[0;32m<ipython-input-6-c5634f5237d3>\u001b[0m in \u001b[0;36m<module>\u001b[0;34m\u001b[0m\n\u001b[0;32m----> 1\u001b[0;31m \u001b[0mcv2\u001b[0m\u001b[0;34m.\u001b[0m\u001b[0mimshow\u001b[0m\u001b[0;34m(\u001b[0m\u001b[0;34m\"CSI Camera\"\u001b[0m\u001b[0;34m,\u001b[0m \u001b[0mimg\u001b[0m\u001b[0;34m)\u001b[0m\u001b[0;34m\u001b[0m\u001b[0;34m\u001b[0m\u001b[0m\n\u001b[0m",
      "\u001b[0;31merror\u001b[0m: OpenCV(4.1.1) /home/nvidia/host/build_opencv/nv_opencv/modules/highgui/src/window.cpp:352: error: (-215:Assertion failed) size.width>0 && size.height>0 in function 'imshow'\n"
     ]
    }
   ],
   "source": [
    "cv2.imshow(\"CSI Camera\", img)"
   ]
  },
  {
   "cell_type": "code",
   "execution_count": 1,
   "id": "weekly-ownership",
   "metadata": {},
   "outputs": [],
   "source": [
    "import traitlets\n",
    "import os\n",
    "import traitlets\n",
    "import atexit\n",
    "import cv2\n",
    "import threading\n",
    "import numpy as np\n",
    "    \n",
    "class CameraBase(traitlets.HasTraits):\n",
    "    \n",
    "    value = traitlets.Any()\n",
    "    \n",
    "    @staticmethod\n",
    "    def instance(*args, **kwargs):\n",
    "        raise NotImplementedError\n",
    "    \n",
    "    def widget(self):\n",
    "        if hasattr(self, '_widget'):\n",
    "            return self._widget   # cache widget, so we don't duplicate links\n",
    "        from ipywidgets import Image\n",
    "        from jetbot.image import bgr8_to_jpeg\n",
    "        image = Image()\n",
    "        traitlets.dlink((self, 'value'), (image, 'value'), transform=bgr8_to_jpeg)\n",
    "        self._widget = image\n",
    "        return image\n",
    "\n",
    "class OpenCvGstCamera(CameraBase):\n",
    "    \n",
    "    value = traitlets.Any()\n",
    "    \n",
    "    # config\n",
    "    width = traitlets.Integer(default_value=1280).tag(config=True)\n",
    "    height = traitlets.Integer(default_value=720).tag(config=True)\n",
    "    fps = traitlets.Integer(default_value=60).tag(config=True)\n",
    "    capture_width = traitlets.Integer(default_value=1280).tag(config=True)\n",
    "    capture_height = traitlets.Integer(default_value=720).tag(config=True)\n",
    "    flip_method = traitlets.Integer(default_value=0).tag(config=True)\n",
    "\n",
    "    def __init__(self, *args, **kwargs):\n",
    "        self.value = np.empty((self.height, self.width, 3), dtype=np.uint8)\n",
    "        super().__init__(self, *args, **kwargs)\n",
    "\n",
    "        try:\n",
    "            self.cap = cv2.VideoCapture(self._gst_str(), cv2.CAP_GSTREAMER)\n",
    "\n",
    "            re, image = self.cap.read()\n",
    "\n",
    "            if not re:\n",
    "                raise RuntimeError('Could not read image from camera.')\n",
    "\n",
    "            self.value = image\n",
    "            self.start()\n",
    "        except:\n",
    "            self.stop()\n",
    "            raise RuntimeError(\n",
    "                'Could not initialize camera.  Please see error trace.')\n",
    "\n",
    "        atexit.register(self.stop)\n",
    "\n",
    "    def _capture_frames(self):\n",
    "        while True:\n",
    "            re, image = self.cap.read()\n",
    "            if re:\n",
    "                self.value = image\n",
    "            else:\n",
    "                break\n",
    "                \n",
    "#     def _gst_str(self):\n",
    "#         return 'nvarguscamerasrc sensor-mode=3 ! video/x-raw(memory:NVMM), width=%d, height=%d, format=(string)NV12, framerate=(fraction)%d/1 ! nvvidconv ! video/x-raw, width=(int)%d, height=(int)%d, format=(string)BGRx ! videoconvert ! appsink' % (\n",
    "#                 self.capture_width, self.capture_height, self.fps, self.width, self.height)\n",
    "    def _gst_str(self):\n",
    "        return (\n",
    "            \"nvarguscamerasrc ! \"\n",
    "            \"video/x-raw(memory:NVMM), \"\n",
    "            \"width=(int)%d, height=(int)%d, \"\n",
    "            \"format=(string)NV12, framerate=(fraction)%d/1 ! \"\n",
    "            \"nvvidconv flip-method=%d ! \"\n",
    "            \"video/x-raw, width=(int)%d, height=(int)%d, format=(string)BGRx ! \"\n",
    "            \"videoconvert ! \"\n",
    "            \"video/x-raw, format=(string)BGR ! appsink\"\n",
    "            % (\n",
    "                self.capture_width,\n",
    "                self.capture_height,\n",
    "                self.fps,\n",
    "                self.flip_method,\n",
    "                self.width,\n",
    "                self.height,\n",
    "            )\n",
    "        )\n",
    "    \n",
    "    def start(self):\n",
    "        if not self.cap.isOpened():\n",
    "            self.cap.open(self._gst_str(), cv2.CAP_GSTREAMER)\n",
    "        if not hasattr(self, 'thread') or not self.thread.isAlive():\n",
    "            self.thread = threading.Thread(target=self._capture_frames)\n",
    "            self.thread.start()\n",
    "\n",
    "    def stop(self):\n",
    "        if hasattr(self, 'cap'):\n",
    "            self.cap.release()\n",
    "        if hasattr(self, 'thread'):\n",
    "            self.thread.join()\n",
    "            \n",
    "    def restart(self):\n",
    "        self.stop()\n",
    "        self.start()\n",
    "        \n",
    "    @staticmethod\n",
    "    def instance(*args, **kwargs):\n",
    "        return OpenCvGstCamera(*args, **kwargs)"
   ]
  },
  {
   "cell_type": "code",
   "execution_count": 12,
   "id": "restricted-olympus",
   "metadata": {},
   "outputs": [
    {
     "name": "stdout",
     "output_type": "stream",
     "text": [
      "/bin/bash: sudo: command not found\n"
     ]
    }
   ],
   "source": [
    "!sudo systemctl restart nvargus-daemon"
   ]
  },
  {
   "cell_type": "code",
   "execution_count": 2,
   "id": "binding-advertiser",
   "metadata": {},
   "outputs": [
    {
     "name": "stderr",
     "output_type": "stream",
     "text": [
      "/usr/local/lib/python3.6/dist-packages/ipykernel_launcher.py:41: DeprecationWarning: Passing unrecognized arguments to super(OpenCvGstCamera).__init__(<__main__.OpenCvGstCamera object at 0x7f744c3ef0>).\n",
      "object.__init__() takes no parameters\n",
      "This is deprecated in traitlets 4.2.This error will be raised in a future release of traitlets.\n"
     ]
    },
    {
     "ename": "RuntimeError",
     "evalue": "Could not initialize camera.  Please see error trace.",
     "output_type": "error",
     "traceback": [
      "\u001b[0;31m\u001b[0m",
      "\u001b[0;31mRuntimeError\u001b[0mTraceback (most recent call last)",
      "\u001b[0;32m<ipython-input-1-c3695f26de4a>\u001b[0m in \u001b[0;36m__init__\u001b[0;34m(self, *args, **kwargs)\u001b[0m\n\u001b[1;32m     48\u001b[0m             \u001b[0;32mif\u001b[0m \u001b[0;32mnot\u001b[0m \u001b[0mre\u001b[0m\u001b[0;34m:\u001b[0m\u001b[0;34m\u001b[0m\u001b[0;34m\u001b[0m\u001b[0m\n\u001b[0;32m---> 49\u001b[0;31m                 \u001b[0;32mraise\u001b[0m \u001b[0mRuntimeError\u001b[0m\u001b[0;34m(\u001b[0m\u001b[0;34m'Could not read image from camera.'\u001b[0m\u001b[0;34m)\u001b[0m\u001b[0;34m\u001b[0m\u001b[0;34m\u001b[0m\u001b[0m\n\u001b[0m\u001b[1;32m     50\u001b[0m \u001b[0;34m\u001b[0m\u001b[0m\n",
      "\u001b[0;31mRuntimeError\u001b[0m: Could not read image from camera.",
      "\nDuring handling of the above exception, another exception occurred:\n",
      "\u001b[0;31mRuntimeError\u001b[0mTraceback (most recent call last)",
      "\u001b[0;32m<ipython-input-2-f78fb1299220>\u001b[0m in \u001b[0;36m<module>\u001b[0;34m\u001b[0m\n\u001b[0;32m----> 1\u001b[0;31m \u001b[0mcamera\u001b[0m \u001b[0;34m=\u001b[0m \u001b[0mOpenCvGstCamera\u001b[0m\u001b[0;34m(\u001b[0m\u001b[0mwidth\u001b[0m\u001b[0;34m=\u001b[0m\u001b[0;36m224\u001b[0m\u001b[0;34m,\u001b[0m \u001b[0mheight\u001b[0m\u001b[0;34m=\u001b[0m\u001b[0;36m224\u001b[0m\u001b[0;34m)\u001b[0m\u001b[0;34m\u001b[0m\u001b[0;34m\u001b[0m\u001b[0m\n\u001b[0m",
      "\u001b[0;32m<ipython-input-1-c3695f26de4a>\u001b[0m in \u001b[0;36m__init__\u001b[0;34m(self, *args, **kwargs)\u001b[0m\n\u001b[1;32m     54\u001b[0m             \u001b[0mself\u001b[0m\u001b[0;34m.\u001b[0m\u001b[0mstop\u001b[0m\u001b[0;34m(\u001b[0m\u001b[0;34m)\u001b[0m\u001b[0;34m\u001b[0m\u001b[0;34m\u001b[0m\u001b[0m\n\u001b[1;32m     55\u001b[0m             raise RuntimeError(\n\u001b[0;32m---> 56\u001b[0;31m                 'Could not initialize camera.  Please see error trace.')\n\u001b[0m\u001b[1;32m     57\u001b[0m \u001b[0;34m\u001b[0m\u001b[0m\n\u001b[1;32m     58\u001b[0m         \u001b[0matexit\u001b[0m\u001b[0;34m.\u001b[0m\u001b[0mregister\u001b[0m\u001b[0;34m(\u001b[0m\u001b[0mself\u001b[0m\u001b[0;34m.\u001b[0m\u001b[0mstop\u001b[0m\u001b[0;34m)\u001b[0m\u001b[0;34m\u001b[0m\u001b[0;34m\u001b[0m\u001b[0m\n",
      "\u001b[0;31mRuntimeError\u001b[0m: Could not initialize camera.  Please see error trace."
     ]
    }
   ],
   "source": [
    "camera = OpenCvGstCamera(width=224, height=224)"
   ]
  },
  {
   "cell_type": "code",
   "execution_count": null,
   "id": "eastern-active",
   "metadata": {},
   "outputs": [],
   "source": [
    "import traitlets\n",
    "import ipywidgets.widgets as widgets\n",
    "from IPython.display import display\n",
    "from jetbot import Camera, bgr8_to_jpeg\n",
    "\n",
    "camera = Camera.instance(width=224, height=224)\n",
    "\n",
    "image = widgets.Image(format='jpeg', width=224, height=224)  # this width and height doesn't necessarily have to match the camera\n",
    "\n",
    "camera_link = traitlets.dlink((camera, 'value'), (image, 'value'), transform=bgr8_to_jpeg)\n",
    "\n",
    "display(image)"
   ]
  },
  {
   "cell_type": "code",
   "execution_count": null,
   "id": "synthetic-sheffield",
   "metadata": {},
   "outputs": [],
   "source": []
  },
  {
   "cell_type": "code",
   "execution_count": 5,
   "id": "happy-sheriff",
   "metadata": {},
   "outputs": [],
   "source": [
    "from jetbot.camera.zmq_camera import ZmqCamera\n",
    "Camera = ZmqCamera"
   ]
  },
  {
   "cell_type": "code",
   "execution_count": 4,
   "id": "artificial-contact",
   "metadata": {},
   "outputs": [
    {
     "name": "stdout",
     "output_type": "stream",
     "text": [
      "System has not been booted with systemd as init system (PID 1). Can't operate.\n"
     ]
    }
   ],
   "source": [
    "!systemctl restart nvargus-daemon"
   ]
  },
  {
   "cell_type": "code",
   "execution_count": 3,
   "id": "tropical-stocks",
   "metadata": {},
   "outputs": [],
   "source": [
    "from jetbot import Camera\n",
    "camera = Camera.instance()"
   ]
  },
  {
   "cell_type": "code",
   "execution_count": 4,
   "id": "official-sapphire",
   "metadata": {},
   "outputs": [],
   "source": [
    "import traitlets\n",
    "import ipywidgets.widgets as widgets\n",
    "from IPython.display import display\n",
    "from jetbot import bgr8_to_jpeg"
   ]
  },
  {
   "cell_type": "code",
   "execution_count": 8,
   "id": "signal-dairy",
   "metadata": {},
   "outputs": [
    {
     "ename": "NameError",
     "evalue": "name 'camera' is not defined",
     "output_type": "error",
     "traceback": [
      "\u001b[0;31m\u001b[0m",
      "\u001b[0;31mNameError\u001b[0mTraceback (most recent call last)",
      "\u001b[0;32m<ipython-input-8-f4ba884058b7>\u001b[0m in \u001b[0;36m<module>\u001b[0;34m\u001b[0m\n\u001b[1;32m      4\u001b[0m \u001b[0mimage\u001b[0m \u001b[0;34m=\u001b[0m \u001b[0mwidgets\u001b[0m\u001b[0;34m.\u001b[0m\u001b[0mImage\u001b[0m\u001b[0;34m(\u001b[0m\u001b[0mformat\u001b[0m\u001b[0;34m=\u001b[0m\u001b[0;34m'jpeg'\u001b[0m\u001b[0;34m,\u001b[0m \u001b[0mwidth\u001b[0m\u001b[0;34m=\u001b[0m\u001b[0;36m300\u001b[0m\u001b[0;34m,\u001b[0m \u001b[0mheight\u001b[0m\u001b[0;34m=\u001b[0m\u001b[0;36m300\u001b[0m\u001b[0;34m)\u001b[0m  \u001b[0;31m# this width and height doesn't necessarily have to match the camera\u001b[0m\u001b[0;34m\u001b[0m\u001b[0;34m\u001b[0m\u001b[0m\n\u001b[1;32m      5\u001b[0m \u001b[0;34m\u001b[0m\u001b[0m\n\u001b[0;32m----> 6\u001b[0;31m \u001b[0mcamera_link\u001b[0m \u001b[0;34m=\u001b[0m \u001b[0mtraitlets\u001b[0m\u001b[0;34m.\u001b[0m\u001b[0mdlink\u001b[0m\u001b[0;34m(\u001b[0m\u001b[0;34m(\u001b[0m\u001b[0mcamera\u001b[0m\u001b[0;34m,\u001b[0m \u001b[0;34m'value'\u001b[0m\u001b[0;34m)\u001b[0m\u001b[0;34m,\u001b[0m \u001b[0;34m(\u001b[0m\u001b[0mimage\u001b[0m\u001b[0;34m,\u001b[0m \u001b[0;34m'value'\u001b[0m\u001b[0;34m)\u001b[0m\u001b[0;34m,\u001b[0m \u001b[0mtransform\u001b[0m\u001b[0;34m=\u001b[0m\u001b[0mbgr8_to_jpeg\u001b[0m\u001b[0;34m)\u001b[0m\u001b[0;34m\u001b[0m\u001b[0;34m\u001b[0m\u001b[0m\n\u001b[0m\u001b[1;32m      7\u001b[0m \u001b[0;34m\u001b[0m\u001b[0m\n\u001b[1;32m      8\u001b[0m \u001b[0mdisplay\u001b[0m\u001b[0;34m(\u001b[0m\u001b[0mimage\u001b[0m\u001b[0;34m)\u001b[0m\u001b[0;34m\u001b[0m\u001b[0;34m\u001b[0m\u001b[0m\n",
      "\u001b[0;31mNameError\u001b[0m: name 'camera' is not defined"
     ]
    }
   ],
   "source": [
    "import traitlets\n",
    "import ipywidgets.widgets as widgets\n",
    "\n",
    "image = widgets.Image(format='jpeg', width=300, height=300)  # this width and height doesn't necessarily have to match the camera\n",
    "\n",
    "camera_link = traitlets.dlink((camera, 'value'), (image, 'value'), transform=bgr8_to_jpeg)\n",
    "\n",
    "display(image)"
   ]
  },
  {
   "cell_type": "code",
   "execution_count": null,
   "id": "urban-model",
   "metadata": {},
   "outputs": [],
   "source": [
    "camera.stop()"
   ]
  }
 ],
 "metadata": {
  "kernelspec": {
   "display_name": "Python 3",
   "language": "python",
   "name": "python3"
  },
  "language_info": {
   "codemirror_mode": {
    "name": "ipython",
    "version": 3
   },
   "file_extension": ".py",
   "mimetype": "text/x-python",
   "name": "python",
   "nbconvert_exporter": "python",
   "pygments_lexer": "ipython3",
   "version": "3.6.9"
  }
 },
 "nbformat": 4,
 "nbformat_minor": 5
}
