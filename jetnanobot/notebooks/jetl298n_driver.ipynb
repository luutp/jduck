{
 "cells": [
  {
   "cell_type": "markdown",
   "metadata": {},
   "source": [
    "# Import package"
   ]
  },
  {
   "cell_type": "code",
   "execution_count": 5,
   "metadata": {},
   "outputs": [
    {
     "name": "stdout",
     "output_type": "stream",
     "text": [
      "\u001b[31mDEPRECATION: The default format will switch to columns in the future. You can use --format=(legacy|columns) (or define a format=(legacy|columns) in your pip.conf under the [list] section) to disable this warning.\u001b[0m\n",
      "absl-py (0.11.0)\n",
      "Adafruit-GPIO (1.0.4)\n",
      "Adafruit-MotorHAT (1.4.0)\n",
      "Adafruit-PureIO (1.1.7)\n",
      "Adafruit-SSD1306 (1.6.2)\n",
      "appdirs (1.4.4)\n",
      "argon2-cffi (20.1.0)\n",
      "astor (0.8.1)\n",
      "async-generator (1.10)\n",
      "attrs (20.3.0)\n",
      "backcall (0.2.0)\n",
      "bleach (3.2.1)\n",
      "certifi (2020.11.8)\n",
      "cffi (1.14.3)\n",
      "chardet (3.0.4)\n",
      "Cython (0.29.21)\n",
      "dataclasses (0.7)\n",
      "decorator (4.4.2)\n",
      "defusedxml (0.6.0)\n",
      "entrypoints (0.3)\n",
      "funcsigs (1.0.2)\n",
      "future (0.17.1)\n",
      "futures (3.1.1)\n",
      "gast (0.2.2)\n",
      "google-pasta (0.2.0)\n",
      "grpcio (1.33.2)\n",
      "h5py (2.10.0)\n",
      "idna (2.10)\n",
      "importlib-metadata (2.0.0)\n",
      "ipykernel (5.3.4)\n",
      "ipython (7.16.1)\n",
      "ipython-genutils (0.2.0)\n",
      "ipywidgets (7.5.1)\n",
      "jedi (0.17.2)\n",
      "jetbot (0.4.1)\n",
      "Jetson.GPIO (2.0.15)\n",
      "Jinja2 (2.11.2)\n",
      "json5 (0.9.5)\n",
      "jsonschema (3.2.0)\n",
      "jupyter (1.0.0)\n",
      "jupyter-clickable-image-widget (0.1.0a0, /root/jupyter_clickable_image_widget)\n",
      "jupyter-client (6.1.7)\n",
      "jupyter-console (6.2.0)\n",
      "jupyter-core (4.6.3)\n",
      "jupyterlab (2.2.9)\n",
      "jupyterlab-pygments (0.1.2)\n",
      "jupyterlab-server (1.2.0)\n",
      "Keras-Applications (1.0.8)\n",
      "Keras-Preprocessing (1.0.5)\n",
      "Mako (1.1.3)\n",
      "Markdown (3.3.3)\n",
      "MarkupSafe (1.1.1)\n",
      "mistune (0.8.4)\n",
      "mock (3.0.5)\n",
      "nbclient (0.5.1)\n",
      "nbconvert (6.0.7)\n",
      "nbformat (5.0.8)\n",
      "nest-asyncio (1.4.2)\n",
      "notebook (6.1.5)\n",
      "numpy (1.19.2)\n",
      "opt-einsum (3.3.0)\n",
      "packaging (20.4)\n",
      "pandocfilters (1.4.3)\n",
      "parso (0.7.1)\n",
      "pexpect (4.8.0)\n",
      "pickleshare (0.7.5)\n",
      "Pillow (8.0.0)\n",
      "pip (9.0.1)\n",
      "prometheus-client (0.8.0)\n",
      "prompt-toolkit (3.0.8)\n",
      "protobuf (3.13.0)\n",
      "ptyprocess (0.6.0)\n",
      "pybind11 (2.6.0)\n",
      "pycparser (2.20)\n",
      "pycuda (2020.1)\n",
      "Pygments (2.7.2)\n",
      "pygobject (3.26.1)\n",
      "pyparsing (2.4.7)\n",
      "pyrsistent (0.17.3)\n",
      "python-dateutil (2.8.1)\n",
      "pytools (2020.4.3)\n",
      "pyzmq (19.0.2)\n",
      "qtconsole (4.7.7)\n",
      "QtPy (1.9.0)\n",
      "requests (2.24.0)\n",
      "Send2Trash (1.5.0)\n",
      "setuptools (50.3.2)\n",
      "six (1.15.0)\n",
      "spidev (3.5)\n",
      "tensorboard (1.15.0)\n",
      "tensorflow (1.15.2+nv)\n",
      "tensorflow-estimator (1.15.1)\n",
      "termcolor (1.1.0)\n",
      "terminado (0.9.1)\n",
      "testpath (0.4.4)\n",
      "torch (1.6.0)\n",
      "torch2trt (0.1.0)\n",
      "torchaudio (0.6.0a0+f17ae39)\n",
      "torchvision (0.7.0a0+78ed10c)\n",
      "tornado (6.1)\n",
      "traitlets (5.0.0.dev0)\n",
      "urllib3 (1.25.11)\n",
      "wcwidth (0.2.5)\n",
      "webencodings (0.5.1)\n",
      "Werkzeug (1.0.1)\n",
      "wheel (0.35.1)\n",
      "widgetsnbextension (3.5.1)\n",
      "wrapt (1.12.1)\n",
      "zipp (3.4.0)\n",
      "Note: you may need to restart the kernel to use updated packages.\n"
     ]
    }
   ],
   "source": [
    "pip list"
   ]
  },
  {
   "cell_type": "code",
   "execution_count": 4,
   "metadata": {},
   "outputs": [
    {
     "name": "stdout",
     "output_type": "stream",
     "text": [
      "Collecting Jetson.GPIO\n",
      "  Downloading https://files.pythonhosted.org/packages/00/18/5bf6a49c1580fddc59e0e72961821841e74f8ff155ab87bbc50a5006827b/Jetson.GPIO-2.0.15.tar.gz\n",
      "Building wheels for collected packages: Jetson.GPIO\n",
      "  Running setup.py bdist_wheel for Jetson.GPIO ... \u001b[?25ldone\n",
      "\u001b[?25h  Stored in directory: /root/.cache/pip/wheels/b2/43/d4/efa32294f0705bdd848ce2b655cf8409e30004435bd6c37f8c\n",
      "Successfully built Jetson.GPIO\n",
      "Installing collected packages: Jetson.GPIO\n",
      "Successfully installed Jetson.GPIO-2.0.15\n",
      "Note: you may need to restart the kernel to use updated packages.\n"
     ]
    }
   ],
   "source": [
    "pip install Jetson.GPIO"
   ]
  },
  {
   "cell_type": "code",
   "execution_count": 6,
   "metadata": {},
   "outputs": [],
   "source": [
    "import time\n",
    "import Jetson.GPIO as GPIO\n",
    "GPIO.setwarnings(False)\n",
    "GPIO.setmode(GPIO.BOARD)"
   ]
  },
  {
   "cell_type": "markdown",
   "metadata": {},
   "source": [
    "# Define"
   ]
  },
  {
   "cell_type": "markdown",
   "metadata": {},
   "source": [
    "## GPIO pin maps"
   ]
  },
  {
   "cell_type": "code",
   "execution_count": 22,
   "metadata": {},
   "outputs": [
    {
     "name": "stdout",
     "output_type": "stream",
     "text": [
      "/bin/bash: sudo: command not found\n",
      "/bin/bash: sudo: command not found\n"
     ]
    }
   ],
   "source": [
    "# Enable Pin 32 / PWM0 from terminal \n",
    "# sudo busybox devmem 0x700031fc 32 0x45\n",
    "# sudo busybox devmem 0x6000d504 32 0x2\n",
    "\n",
    "# Enable Pin 33 / PWM2\n",
    "# sudo busybox devmem 0x70003248 32 0x46\n",
    "# sudo busybox devmem 0x6000d100 32 0x00"
   ]
  },
  {
   "cell_type": "code",
   "execution_count": 27,
   "metadata": {},
   "outputs": [],
   "source": [
    "left_motor_pwm_pin = 32\n",
    "left_motor_ctrl_pins = [35,36]\n",
    "right_motor_pwm_pin = 33\n",
    "right_motor_ctrl_pins = [37,38]\n",
    "\n",
    "GPIO.setup(left_motor_pwm_pin, GPIO.OUT)\n",
    "left_motor_pwm = GPIO.PWM(left_motor_pwm_pin, 50) # (channel, frequency)\n",
    "left_motor_pwm.start(0)\n",
    "for pin in left_motor_ctrl_pins:\n",
    "    GPIO.setup(pin,GPIO.OUT,initial=GPIO.LOW)\n",
    "GPIO.setup(right_motor_pwm_pin, GPIO.OUT)\n",
    "right_motor_pwm = GPIO.PWM(right_motor_pwm_pin, 50)\n",
    "# right_motor_pwm.start(0)\n",
    "for pin in right_motor_ctrl_pins:\n",
    "    GPIO.setup(pin,GPIO.OUT,initial=GPIO.LOW)"
   ]
  },
  {
   "cell_type": "code",
   "execution_count": 17,
   "metadata": {},
   "outputs": [],
   "source": [
    "for n in range(10):\n",
    "    GPIO.output(left_motor_ctrl[0], not GPIO.input(left_motor_ctrl[0]))\n",
    "    time.sleep(0.5)"
   ]
  },
  {
   "cell_type": "code",
   "execution_count": 31,
   "metadata": {},
   "outputs": [],
   "source": [
    "left_motor_pwm.ChangeDutyCycle(0.2)"
   ]
  },
  {
   "cell_type": "code",
   "execution_count": 36,
   "metadata": {},
   "outputs": [],
   "source": [
    "GPIO.output(right_motor_ctrl[0], GPIO.LOW)\n",
    "GPIO.output(right_motor_ctrl[1], GPIO.HIGH)"
   ]
  },
  {
   "cell_type": "code",
   "execution_count": 33,
   "metadata": {},
   "outputs": [],
   "source": [
    "GPIO.output(right_motor_ctrl[0], GPIO.HIGH)\n",
    "GPIO.output(right_motor_ctrl[1], GPIO.LOW)"
   ]
  },
  {
   "cell_type": "code",
   "execution_count": 37,
   "metadata": {},
   "outputs": [],
   "source": [
    "GPIO.output(right_motor_ctrl[0], GPIO.LOW)\n",
    "GPIO.output(right_motor_ctrl[1], GPIO.LOW)"
   ]
  },
  {
   "cell_type": "code",
   "execution_count": 35,
   "metadata": {},
   "outputs": [],
   "source": [
    "GPIO.output(right_motor_ctrl[0], GPIO.HIGH)\n",
    "GPIO.output(right_motor_ctrl[1], GPIO.HIGH)"
   ]
  },
  {
   "cell_type": "code",
   "execution_count": 1,
   "metadata": {},
   "outputs": [],
   "source": [
    "import time\n",
    "import Jetson.GPIO as GPIO\n",
    "import traitlets\n",
    "from traitlets.config.configurable import Configurable\n",
    "\n",
    "GPIO.setwarnings(False)\n",
    "GPIO.setmode(GPIO.BOARD)\n",
    "\n",
    "class DCMotor(Configurable):\n",
    "    value = traitlets.Float()    \n",
    "    \n",
    "    def __init__(self, pwm_pin, ctrl_pin1, ctrl_pin2, **kwargs):\n",
    "        self.pwm_pin = pwm_pin\n",
    "        self.ctrl_pin1 = ctrl_pin1\n",
    "        self.ctrl_pin2 = ctrl_pin2\n",
    "        # Motor calibration\n",
    "        self.alpha = kwargs.get('alpha', 1.0)\n",
    "        self.beta = kwargs.get('beta', 0.0)\n",
    "        # GPIO setup\n",
    "        GPIO.setup(self.pwm_pin, GPIO.OUT)\n",
    "        self.pwm = GPIO.PWM(self.pwm_pin, 50) # (channel, frequency)\n",
    "        self.pwm.start(0)        \n",
    "        self.speed = 0\n",
    "        GPIO.setup(self.ctrl_pin1,GPIO.OUT,initial=GPIO.LOW)\n",
    "        GPIO.setup(self.ctrl_pin2,GPIO.OUT,initial=GPIO.LOW)\n",
    "    \n",
    "    @traitlets.observe('value')\n",
    "    def _observe_value(self, change):\n",
    "        self._write_value(change['new'])\n",
    "\n",
    "    def _write_value(self, value):\n",
    "        \"\"\"Sets motor value between [-1, 1]\"\"\"\n",
    "        mapped_value = int(100.0 * (self.alpha * value + self.beta))\n",
    "        speed = min(max(abs(mapped_value), 0), 100)\n",
    "        self.set_speed(speed)\n",
    "        if mapped_value < 0:\n",
    "            self.rotate_forward()\n",
    "        else:\n",
    "            self.rotate_backward()\n",
    "            \n",
    "    def set_speed(self, normalized_speed):\n",
    "        # normalized_speed in percentange from 0 - 100\n",
    "        self.pwm.ChangeDutyCycle(normalized_speed)\n",
    "        self.speed = normalized_speed\n",
    "        \n",
    "    def rotate_forward(self):\n",
    "        GPIO.output(self.ctrl_pin1, GPIO.LOW)\n",
    "        GPIO.output(self.ctrl_pin2, GPIO.HIGH)\n",
    "    \n",
    "    def rotate_backward(self):\n",
    "        GPIO.output(self.ctrl_pin1, GPIO.HIGH)\n",
    "        GPIO.output(self.ctrl_pin2, GPIO.LOW)\n",
    "    \n",
    "    def stop(self):\n",
    "        GPIO.output(self.ctrl_pin1, GPIO.LOW)\n",
    "        GPIO.output(self.ctrl_pin2, GPIO.LOW)\n",
    "\n",
    "right_motor = DCMotor(33,35,37, alpha = 0.8)\n",
    "left_motor = DCMotor(32,38,36)\n"
   ]
  },
  {
   "cell_type": "code",
   "execution_count": 2,
   "metadata": {},
   "outputs": [
    {
     "data": {
      "application/vnd.jupyter.widget-view+json": {
       "model_id": "b3a364ca1e9c4b78b8deac72499bee6a",
       "version_major": 2,
       "version_minor": 0
      },
      "text/plain": [
       "Controller()"
      ]
     },
     "metadata": {},
     "output_type": "display_data"
    }
   ],
   "source": [
    "import ipywidgets.widgets as widgets\n",
    "\n",
    "controller = widgets.Controller(index=0)  # replace with index of your controller\n",
    "\n",
    "display(controller)"
   ]
  },
  {
   "cell_type": "code",
   "execution_count": 3,
   "metadata": {},
   "outputs": [],
   "source": [
    "left_link = traitlets.dlink((controller.axes[1], 'value'), (left_motor, 'value'))\n",
    "right_link = traitlets.dlink((controller.axes[3], 'value'), (right_motor, 'value'))"
   ]
  },
  {
   "cell_type": "code",
   "execution_count": 2,
   "metadata": {},
   "outputs": [],
   "source": [
    "right_motor.set_speed(100)\n",
    "left_motor.set_speed(100)\n",
    "right_motor.rotate_forward()\n",
    "left_motor.rotate_forward()"
   ]
  },
  {
   "cell_type": "code",
   "execution_count": 22,
   "metadata": {},
   "outputs": [],
   "source": [
    "right_motor.set_speed(80)\n",
    "left_motor.set_speed(80)\n",
    "right_motor.rotate_backward()\n",
    "left_motor.rotate_backward()"
   ]
  },
  {
   "cell_type": "code",
   "execution_count": 3,
   "metadata": {},
   "outputs": [],
   "source": [
    "left_motor.stop()\n",
    "right_motor.stop()"
   ]
  },
  {
   "cell_type": "code",
   "execution_count": 18,
   "metadata": {},
   "outputs": [],
   "source": [
    "right_motor.set_speed(60)\n",
    "# right_motor.rotate_forward()\n"
   ]
  },
  {
   "cell_type": "code",
   "execution_count": 4,
   "metadata": {},
   "outputs": [],
   "source": [
    "import time\n",
    "import Jetson.GPIO as GPIO\n",
    "import traitlets\n",
    "from traitlets.config.configurable import Configurable\n",
    "\n",
    "GPIO.setwarnings(False)\n",
    "GPIO.setmode(GPIO.BOARD)\n",
    "\n",
    "class Motor(Configurable):\n",
    "\n",
    "    value = traitlets.Float()\n",
    "    \n",
    "    # config\n",
    "    alpha = traitlets.Float(default_value=1.0).tag(config=True)\n",
    "    beta = traitlets.Float(default_value=0.0).tag(config=True)\n",
    "\n",
    "    def __init__(self, driver, channel, *args, **kwargs):\n",
    "        super(Motor, self).__init__(*args, **kwargs)  # initializes traitlets\n",
    "\n",
    "        self._driver = driver\n",
    "        self._motor = self._driver.getMotor(channel)\n",
    "        if(channel == 1):\n",
    "            self._ina = 1\n",
    "            self._inb = 0\n",
    "        else:\n",
    "            self._ina = 2\n",
    "            self._inb = 3\n",
    "        atexit.register(self._release)\n",
    "        \n",
    "    @traitlets.observe('value')\n",
    "    def _observe_value(self, change):\n",
    "        self._write_value(change['new'])\n",
    "\n",
    "    def _write_value(self, value):\n",
    "        \"\"\"Sets motor value between [-1, 1]\"\"\"\n",
    "        mapped_value = int(255.0 * (self.alpha * value + self.beta))\n",
    "        speed = min(max(abs(mapped_value), 0), 255)\n",
    "        self._motor.setSpeed(speed)\n",
    "        if mapped_value < 0:\n",
    "            self._motor.run(Adafruit_MotorHAT.FORWARD)\n",
    "            # The two lines below are required for the Waveshare JetBot Board only\n",
    "            self._driver._pwm.setPWM(self._ina,0,0)\n",
    "            self._driver._pwm.setPWM(self._inb,0,speed*16)\n",
    "        else:\n",
    "            self._motor.run(Adafruit_MotorHAT.BACKWARD)\n",
    "            # The two lines below are required for the Waveshare JetBot Board only\n",
    "            self._driver._pwm.setPWM(self._ina,0,speed*16)\n",
    "            self._driver._pwm.setPWM(self._inb,0,0)\n",
    "\n",
    "    def _release(self):\n",
    "        \"\"\"Stops motor by releasing control\"\"\"\n",
    "        self._motor.run(Adafruit_MotorHAT.RELEASE)\n",
    "        # The two lines below are required for the Waveshare JetBot Board only\n",
    "        self._driver._pwm.setPWM(self._ina,0,0)\n",
    "        self._driver._pwm.setPWM(self._inb,0,0)"
   ]
  },
  {
   "cell_type": "code",
   "execution_count": null,
   "metadata": {},
   "outputs": [],
   "source": []
  }
 ],
 "metadata": {
  "kernelspec": {
   "display_name": "Python 3",
   "language": "python",
   "name": "python3"
  },
  "language_info": {
   "codemirror_mode": {
    "name": "ipython",
    "version": 3
   },
   "file_extension": ".py",
   "mimetype": "text/x-python",
   "name": "python",
   "nbconvert_exporter": "python",
   "pygments_lexer": "ipython3",
   "version": "3.6.9"
  }
 },
 "nbformat": 4,
 "nbformat_minor": 4
}
