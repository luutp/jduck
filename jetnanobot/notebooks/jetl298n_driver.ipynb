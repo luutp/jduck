{
 "cells": [
  {
   "cell_type": "markdown",
   "metadata": {},
   "source": [
    "# Import package"
   ]
  },
  {
   "cell_type": "code",
   "execution_count": 4,
   "metadata": {},
   "outputs": [
    {
     "name": "stdout",
     "output_type": "stream",
     "text": [
      "Collecting Jetson.GPIO\n",
      "  Downloading https://files.pythonhosted.org/packages/00/18/5bf6a49c1580fddc59e0e72961821841e74f8ff155ab87bbc50a5006827b/Jetson.GPIO-2.0.15.tar.gz\n",
      "Building wheels for collected packages: Jetson.GPIO\n",
      "  Running setup.py bdist_wheel for Jetson.GPIO ... \u001b[?25ldone\n",
      "\u001b[?25h  Stored in directory: /root/.cache/pip/wheels/b2/43/d4/efa32294f0705bdd848ce2b655cf8409e30004435bd6c37f8c\n",
      "Successfully built Jetson.GPIO\n",
      "Installing collected packages: Jetson.GPIO\n",
      "Successfully installed Jetson.GPIO-2.0.15\n",
      "Note: you may need to restart the kernel to use updated packages.\n"
     ]
    }
   ],
   "source": [
    "pip install Jetson.GPIO"
   ]
  },
  {
   "cell_type": "markdown",
   "metadata": {},
   "source": [
    "# Define"
   ]
  },
  {
   "cell_type": "markdown",
   "metadata": {},
   "source": [
    "## GPIO pin maps"
   ]
  },
  {
   "cell_type": "code",
   "execution_count": 3,
   "metadata": {},
   "outputs": [
    {
     "name": "stdout",
     "output_type": "stream",
     "text": [
      "/bin/bash: busybox: command not found\n"
     ]
    }
   ],
   "source": [
    "# Enable Pin 32 / PWM0 from terminal \n",
    "# sudo busybox devmem 0x700031fc 32 0x45\n",
    "# sudo busybox devmem 0x6000d504 32 0x2\n",
    "\n",
    "# Enable Pin 33 / PWM2\n",
    "# sudo busybox devmem 0x70003248 32 0x46\n",
    "# sudo busybox devmem 0x6000d100 32 0x00"
   ]
  },
  {
   "cell_type": "code",
   "execution_count": 6,
   "metadata": {},
   "outputs": [
    {
     "name": "stdout",
     "output_type": "stream",
     "text": [
      "Reading package lists... Done\n",
      "Building dependency tree       \n",
      "Reading state information... Done\n",
      "The following NEW packages will be installed:\n",
      "  busybox\n",
      "0 upgraded, 1 newly installed, 0 to remove and 17 not upgraded.\n",
      "Need to get 366 kB of archives.\n",
      "After this operation, 781 kB of additional disk space will be used.\n",
      "Get:1 http://ports.ubuntu.com/ubuntu-ports bionic-updates/universe arm64 busybox arm64 1:1.27.2-2ubuntu3.3 [366 kB]\n",
      "Fetched 366 kB in 1s (401 kB/s)  \n",
      "debconf: delaying package configuration, since apt-utils is not installed\n",
      "Selecting previously unselected package busybox.\n",
      "(Reading database ... 44680 files and directories currently installed.)\n",
      "Preparing to unpack .../busybox_1%3a1.27.2-2ubuntu3.3_arm64.deb ...\n",
      "Unpacking busybox (1:1.27.2-2ubuntu3.3) ...\n",
      "Setting up busybox (1:1.27.2-2ubuntu3.3) ...\n"
     ]
    }
   ],
   "source": [
    "!apt-get install busybox"
   ]
  },
  {
   "cell_type": "code",
   "execution_count": 1,
   "metadata": {},
   "outputs": [],
   "source": [
    "# Enable Pin 32 / PWM0 from terminal \n",
    "!busybox devmem 0x700031fc 32 0x45\n",
    "!busybox devmem 0x6000d504 32 0x2\n",
    "\n",
    "# Enable Pin 33 / PWM2\n",
    "!busybox devmem 0x70003248 32 0x46\n",
    "!busybox devmem 0x6000d100 32 0x00"
   ]
  },
  {
   "cell_type": "code",
   "execution_count": 4,
   "metadata": {},
   "outputs": [],
   "source": [
    "import time\n",
    "import Jetson.GPIO as GPIO\n",
    "import traitlets\n",
    "from traitlets.config.configurable import Configurable\n",
    "\n",
    "GPIO.setwarnings(False)\n",
    "GPIO.setmode(GPIO.BOARD)\n",
    "\n",
    "class DCMotor(Configurable):\n",
    "    value = traitlets.Float()    \n",
    "    \n",
    "    def __init__(self, pwm_pin, ctrl_pin1, ctrl_pin2, **kwargs):\n",
    "        self.pwm_pin = pwm_pin\n",
    "        self.ctrl_pin1 = ctrl_pin1\n",
    "        self.ctrl_pin2 = ctrl_pin2\n",
    "        # Motor calibration\n",
    "        self.alpha = kwargs.get('alpha', 1.0)\n",
    "        self.beta = kwargs.get('beta', 0.0)\n",
    "        # GPIO setup\n",
    "        GPIO.setup(self.pwm_pin, GPIO.OUT)\n",
    "        self.pwm = GPIO.PWM(self.pwm_pin, 50) # (channel, frequency)\n",
    "        self.pwm.start(0)        \n",
    "        self.speed = 0\n",
    "        GPIO.setup(self.ctrl_pin1,GPIO.OUT,initial=GPIO.LOW)\n",
    "        GPIO.setup(self.ctrl_pin2,GPIO.OUT,initial=GPIO.LOW)\n",
    "    \n",
    "    @traitlets.observe('value')\n",
    "    def _observe_value(self, change):\n",
    "        self._write_value(change['new'])\n",
    "\n",
    "    def _write_value(self, value):\n",
    "        \"\"\"Sets motor value between [-1, 1]\"\"\"\n",
    "        mapped_value = int(100.0 * (self.alpha * value + self.beta))\n",
    "        speed = min(max(abs(mapped_value), 0), 100)\n",
    "        self.set_speed(speed)\n",
    "        if mapped_value < 0:\n",
    "            self.rotate_forward()\n",
    "        else:\n",
    "            self.rotate_backward()\n",
    "            \n",
    "    def set_speed(self, normalized_speed):\n",
    "        # normalized_speed in percentange from 0 - 100\n",
    "        self.pwm.ChangeDutyCycle(normalized_speed)\n",
    "        self.speed = normalized_speed\n",
    "        \n",
    "    def rotate_forward(self):\n",
    "        GPIO.output(self.ctrl_pin1, GPIO.LOW)\n",
    "        GPIO.output(self.ctrl_pin2, GPIO.HIGH)\n",
    "    \n",
    "    def rotate_backward(self):\n",
    "        GPIO.output(self.ctrl_pin1, GPIO.HIGH)\n",
    "        GPIO.output(self.ctrl_pin2, GPIO.LOW)\n",
    "    \n",
    "    def stop(self):\n",
    "        GPIO.output(self.ctrl_pin1, GPIO.LOW)\n",
    "        GPIO.output(self.ctrl_pin2, GPIO.LOW)\n",
    "\n",
    "right_motor = DCMotor(33,35,37, alpha = 1.0)\n",
    "left_motor = DCMotor(32,36,38)\n"
   ]
  },
  {
   "cell_type": "code",
   "execution_count": 2,
   "metadata": {},
   "outputs": [
    {
     "data": {
      "application/vnd.jupyter.widget-view+json": {
       "model_id": "9a9513d3d4674b9bb05b2013ce61eb35",
       "version_major": 2,
       "version_minor": 0
      },
      "text/plain": [
       "Controller()"
      ]
     },
     "metadata": {},
     "output_type": "display_data"
    }
   ],
   "source": [
    "import ipywidgets.widgets as widgets\n",
    "\n",
    "controller = widgets.Controller(index=0)  # replace with index of your controller\n",
    "\n",
    "display(controller)"
   ]
  },
  {
   "cell_type": "code",
   "execution_count": 3,
   "metadata": {},
   "outputs": [],
   "source": [
    "left_link = traitlets.dlink((controller.axes[1], 'value'), (left_motor, 'value'))\n",
    "right_link = traitlets.dlink((controller.axes[3], 'value'), (right_motor, 'value'))"
   ]
  },
  {
   "cell_type": "code",
   "execution_count": null,
   "metadata": {},
   "outputs": [],
   "source": []
  }
 ],
 "metadata": {
  "kernelspec": {
   "display_name": "Python 3",
   "language": "python",
   "name": "python3"
  },
  "language_info": {
   "codemirror_mode": {
    "name": "ipython",
    "version": 3
   },
   "file_extension": ".py",
   "mimetype": "text/x-python",
   "name": "python",
   "nbconvert_exporter": "python",
   "pygments_lexer": "ipython3",
   "version": "3.6.9"
  }
 },
 "nbformat": 4,
 "nbformat_minor": 4
}
