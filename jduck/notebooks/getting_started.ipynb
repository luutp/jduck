{
 "cells": [
  {
   "cell_type": "code",
   "execution_count": 2,
   "metadata": {},
   "outputs": [
    {
     "name": "stdout",
     "output_type": "stream",
     "text": [
      "hello tpluu\n"
     ]
    }
   ],
   "source": [
    "name='tpluu'\n",
    "print(f'hello {name}')"
   ]
  },
  {
   "cell_type": "code",
   "execution_count": 3,
   "metadata": {},
   "outputs": [
    {
     "name": "stdout",
     "output_type": "stream",
     "text": [
      "\u001b[31mDEPRECATION: The default format will switch to columns in the future. You can use --format=(legacy|columns) (or define a format=(legacy|columns) in your pip.conf under the [list] section) to disable this warning.\u001b[0m\n",
      "absl-py (0.11.0)\n",
      "Adafruit-GPIO (1.0.4)\n",
      "Adafruit-MotorHAT (1.4.0)\n",
      "Adafruit-PureIO (1.1.7)\n",
      "Adafruit-SSD1306 (1.6.2)\n",
      "appdirs (1.4.4)\n",
      "argon2-cffi (20.1.0)\n",
      "astor (0.8.1)\n",
      "async-generator (1.10)\n",
      "attrs (20.3.0)\n",
      "backcall (0.2.0)\n",
      "bleach (3.2.1)\n",
      "certifi (2020.11.8)\n",
      "cffi (1.14.3)\n",
      "chardet (3.0.4)\n",
      "Cython (0.29.21)\n",
      "dataclasses (0.7)\n",
      "decorator (4.4.2)\n",
      "defusedxml (0.6.0)\n",
      "entrypoints (0.3)\n",
      "funcsigs (1.0.2)\n",
      "future (0.17.1)\n",
      "futures (3.1.1)\n",
      "gast (0.2.2)\n",
      "google-pasta (0.2.0)\n",
      "grpcio (1.33.2)\n",
      "h5py (2.10.0)\n",
      "idna (2.10)\n",
      "importlib-metadata (2.0.0)\n",
      "ipykernel (5.3.4)\n",
      "ipython (7.16.1)\n",
      "ipython-genutils (0.2.0)\n",
      "ipywidgets (7.5.1)\n",
      "jedi (0.17.2)\n",
      "jetbot (0.4.1)\n",
      "Jinja2 (2.11.2)\n",
      "json5 (0.9.5)\n",
      "jsonschema (3.2.0)\n",
      "jupyter (1.0.0)\n",
      "jupyter-clickable-image-widget (0.1.0a0, /root/jupyter_clickable_image_widget)\n",
      "jupyter-client (6.1.7)\n",
      "jupyter-console (6.2.0)\n",
      "jupyter-core (4.6.3)\n",
      "jupyterlab (2.2.9)\n",
      "jupyterlab-pygments (0.1.2)\n",
      "jupyterlab-server (1.2.0)\n",
      "Keras-Applications (1.0.8)\n",
      "Keras-Preprocessing (1.0.5)\n",
      "Mako (1.1.3)\n",
      "Markdown (3.3.3)\n",
      "MarkupSafe (1.1.1)\n",
      "mistune (0.8.4)\n",
      "mock (3.0.5)\n",
      "nbclient (0.5.1)\n",
      "nbconvert (6.0.7)\n",
      "nbformat (5.0.8)\n",
      "nest-asyncio (1.4.2)\n",
      "notebook (6.1.5)\n",
      "numpy (1.19.2)\n",
      "opt-einsum (3.3.0)\n",
      "packaging (20.4)\n",
      "pandocfilters (1.4.3)\n",
      "parso (0.7.1)\n",
      "pexpect (4.8.0)\n",
      "pickleshare (0.7.5)\n",
      "Pillow (8.0.0)\n",
      "pip (9.0.1)\n",
      "prometheus-client (0.8.0)\n",
      "prompt-toolkit (3.0.8)\n",
      "protobuf (3.13.0)\n",
      "ptyprocess (0.6.0)\n",
      "pybind11 (2.6.0)\n",
      "pycparser (2.20)\n",
      "pycuda (2020.1)\n",
      "Pygments (2.7.2)\n",
      "pygobject (3.26.1)\n",
      "pyparsing (2.4.7)\n",
      "pyrsistent (0.17.3)\n",
      "python-dateutil (2.8.1)\n",
      "pytools (2020.4.3)\n",
      "pyzmq (19.0.2)\n",
      "qtconsole (4.7.7)\n",
      "QtPy (1.9.0)\n",
      "requests (2.24.0)\n",
      "Send2Trash (1.5.0)\n",
      "setuptools (50.3.2)\n",
      "six (1.15.0)\n",
      "spidev (3.5)\n",
      "tensorboard (1.15.0)\n",
      "tensorflow (1.15.2+nv)\n",
      "tensorflow-estimator (1.15.1)\n",
      "termcolor (1.1.0)\n",
      "terminado (0.9.1)\n",
      "testpath (0.4.4)\n",
      "torch (1.6.0)\n",
      "torch2trt (0.1.0)\n",
      "torchaudio (0.6.0a0+f17ae39)\n",
      "torchvision (0.7.0a0+78ed10c)\n",
      "tornado (6.1)\n",
      "traitlets (5.0.0.dev0)\n",
      "urllib3 (1.25.11)\n",
      "wcwidth (0.2.5)\n",
      "webencodings (0.5.1)\n",
      "Werkzeug (1.0.1)\n",
      "wheel (0.35.1)\n",
      "widgetsnbextension (3.5.1)\n",
      "wrapt (1.12.1)\n",
      "zipp (3.4.0)\n",
      "Note: you may need to restart the kernel to use updated packages.\n"
     ]
    }
   ],
   "source": [
    "pip list"
   ]
  }
 ],
 "metadata": {
  "kernelspec": {
   "display_name": "Python 3",
   "language": "python",
   "name": "python3"
  },
  "language_info": {
   "codemirror_mode": {
    "name": "ipython",
    "version": 3
   },
   "file_extension": ".py",
   "mimetype": "text/x-python",
   "name": "python",
   "nbconvert_exporter": "python",
   "pygments_lexer": "ipython3",
   "version": "3.6.9"
  }
 },
 "nbformat": 4,
 "nbformat_minor": 4
}
