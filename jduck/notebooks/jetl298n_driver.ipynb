{
 "cells": [
  {
   "cell_type": "markdown",
   "metadata": {},
   "source": [
    "# Import package"
   ]
  },
  {
   "cell_type": "code",
   "execution_count": 4,
   "metadata": {},
   "outputs": [
    {
     "name": "stdout",
     "output_type": "stream",
     "text": [
      "Collecting Jetson.GPIO\n",
      "  Downloading https://files.pythonhosted.org/packages/00/18/5bf6a49c1580fddc59e0e72961821841e74f8ff155ab87bbc50a5006827b/Jetson.GPIO-2.0.15.tar.gz\n",
      "Building wheels for collected packages: Jetson.GPIO\n",
      "  Running setup.py bdist_wheel for Jetson.GPIO ... \u001b[?25ldone\n",
      "\u001b[?25h  Stored in directory: /root/.cache/pip/wheels/b2/43/d4/efa32294f0705bdd848ce2b655cf8409e30004435bd6c37f8c\n",
      "Successfully built Jetson.GPIO\n",
      "Installing collected packages: Jetson.GPIO\n",
      "Successfully installed Jetson.GPIO-2.0.15\n",
      "Note: you may need to restart the kernel to use updated packages.\n"
     ]
    }
   ],
   "source": [
    "pip install Jetson.GPIO"
   ]
  },
  {
   "cell_type": "code",
   "execution_count": 1,
   "metadata": {},
   "outputs": [
    {
     "name": "stdout",
     "output_type": "stream",
     "text": [
      "/usr/bin/python\n",
      "Python 2.7.17\n"
     ]
    }
   ],
   "source": [
    "!which python\n",
    "!python --version"
   ]
  },
  {
   "cell_type": "markdown",
   "metadata": {},
   "source": [
    "# Define"
   ]
  },
  {
   "cell_type": "markdown",
   "metadata": {},
   "source": [
    "## GPIO pin maps"
   ]
  },
  {
   "cell_type": "code",
   "execution_count": 3,
   "metadata": {},
   "outputs": [
    {
     "name": "stdout",
     "output_type": "stream",
     "text": [
      "/bin/bash: busybox: command not found\n"
     ]
    }
   ],
   "source": [
    "# Enable Pin 32 / PWM0 from terminal \n",
    "# sudo busybox devmem 0x700031fc 32 0x45\n",
    "# sudo busybox devmem 0x6000d504 32 0x2\n",
    "\n",
    "# Enable Pin 33 / PWM2\n",
    "# sudo busybox devmem 0x70003248 32 0x46\n",
    "# sudo busybox devmem 0x6000d100 32 0x00"
   ]
  },
  {
   "cell_type": "code",
   "execution_count": 6,
   "metadata": {},
   "outputs": [
    {
     "name": "stdout",
     "output_type": "stream",
     "text": [
      "Reading package lists... Done\n",
      "Building dependency tree       \n",
      "Reading state information... Done\n",
      "The following NEW packages will be installed:\n",
      "  busybox\n",
      "0 upgraded, 1 newly installed, 0 to remove and 17 not upgraded.\n",
      "Need to get 366 kB of archives.\n",
      "After this operation, 781 kB of additional disk space will be used.\n",
      "Get:1 http://ports.ubuntu.com/ubuntu-ports bionic-updates/universe arm64 busybox arm64 1:1.27.2-2ubuntu3.3 [366 kB]\n",
      "Fetched 366 kB in 1s (401 kB/s)  \n",
      "debconf: delaying package configuration, since apt-utils is not installed\n",
      "Selecting previously unselected package busybox.\n",
      "(Reading database ... 44680 files and directories currently installed.)\n",
      "Preparing to unpack .../busybox_1%3a1.27.2-2ubuntu3.3_arm64.deb ...\n",
      "Unpacking busybox (1:1.27.2-2ubuntu3.3) ...\n",
      "Setting up busybox (1:1.27.2-2ubuntu3.3) ...\n"
     ]
    }
   ],
   "source": [
    "!apt-get install busybox"
   ]
  },
  {
   "cell_type": "code",
   "execution_count": 1,
   "metadata": {},
   "outputs": [],
   "source": [
    "# Enable Pin 32 / PWM0 from terminal \n",
    "!busybox devmem 0x700031fc 32 0x45\n",
    "!busybox devmem 0x6000d504 32 0x2\n",
    "\n",
    "# Enable Pin 33 / PWM2\n",
    "!busybox devmem 0x70003248 32 0x46\n",
    "!busybox devmem 0x6000d100 32 0x00"
   ]
  },
  {
   "cell_type": "code",
   "execution_count": 2,
   "metadata": {},
   "outputs": [],
   "source": [
    "import time\n",
    "import Jetson.GPIO as GPIO\n",
    "import traitlets\n",
    "from traitlets.config.configurable import Configurable\n",
    "from traitlets.config.configurable import SingletonConfigurable\n",
    "\n",
    "\n",
    "GPIO.setwarnings(False)\n",
    "GPIO.setmode(GPIO.BOARD)\n",
    "\n",
    "class DCMotor(Configurable):\n",
    "    value = traitlets.Float()    \n",
    "    \n",
    "    def __init__(self, pwm_pin, ctrl_pin1, ctrl_pin2, **kwargs):\n",
    "        self.pwm_pin = pwm_pin\n",
    "        self.ctrl_pin1 = ctrl_pin1\n",
    "        self.ctrl_pin2 = ctrl_pin2\n",
    "        # Motor calibration\n",
    "        self.alpha = kwargs.get('alpha', 1.0)\n",
    "        self.beta = kwargs.get('beta', 0.0)\n",
    "        # GPIO setup\n",
    "        GPIO.setup(self.pwm_pin, GPIO.OUT)\n",
    "        self.pwm = GPIO.PWM(self.pwm_pin, 50) # (channel, frequency)\n",
    "        self.pwm.start(0)        \n",
    "        self.speed = 0\n",
    "        GPIO.setup(self.ctrl_pin1,GPIO.OUT,initial=GPIO.LOW)\n",
    "        GPIO.setup(self.ctrl_pin2,GPIO.OUT,initial=GPIO.LOW)\n",
    "    \n",
    "    @traitlets.observe('value')\n",
    "    def _observe_value(self, change):\n",
    "        self._write_value(change['new'])\n",
    "\n",
    "    def _write_value(self, value):\n",
    "        \"\"\"Sets motor value between [-1, 1]\"\"\"\n",
    "        mapped_value = int(100.0 * (self.alpha * value + self.beta))\n",
    "        speed = min(max(abs(mapped_value), 0), 100)\n",
    "        self.set_speed(speed)\n",
    "        if mapped_value > 0:\n",
    "            self.rotate_forward()\n",
    "        else:\n",
    "            self.rotate_backward()\n",
    "            \n",
    "    def set_speed(self, normalized_speed):\n",
    "        # normalized_speed in percentange from 0 - 100\n",
    "        self.pwm.ChangeDutyCycle(normalized_speed)\n",
    "        self.speed = normalized_speed\n",
    "        \n",
    "    def rotate_forward(self):\n",
    "        GPIO.output(self.ctrl_pin1, GPIO.LOW)\n",
    "        GPIO.output(self.ctrl_pin2, GPIO.HIGH)\n",
    "    \n",
    "    def rotate_backward(self):\n",
    "        GPIO.output(self.ctrl_pin1, GPIO.HIGH)\n",
    "        GPIO.output(self.ctrl_pin2, GPIO.LOW)\n",
    "    \n",
    "    def stop(self):\n",
    "        GPIO.output(self.ctrl_pin1, GPIO.LOW)\n",
    "        GPIO.output(self.ctrl_pin2, GPIO.LOW)\n",
    "\n"
   ]
  },
  {
   "cell_type": "code",
   "execution_count": 3,
   "metadata": {},
   "outputs": [],
   "source": [
    "class JDuck(SingletonConfigurable):    \n",
    "    def __init__(self, *args, **kwargs):\n",
    "        self.left_motor = DCMotor(32,36,38, alpha = 1.0)\n",
    "        self.right_motor = DCMotor(33,35,37, alpha = 1.0)\n",
    "        self.left_motor.set_speed(50)\n",
    "        self.right_motor.set_speed(50)\n",
    "        \n",
    "    def set_speeds(self, left_speed, right_speed):\n",
    "        self.left_motor.set_speed(left_speed)\n",
    "        self.right_motor.set_speed(right_speed)\n",
    "        \n",
    "    def move_forward(self):\n",
    "        self.left_motor.rotate_forward()\n",
    "        self.right_motor.rotate_forward()\n",
    "\n",
    "    def move_backward(self):\n",
    "        self.left_motor.rotate_backward()\n",
    "        self.right_motor.rotate_backward()\n",
    "\n",
    "    def turn_left(self):\n",
    "        self.left_motor.rotate_backward()\n",
    "        self.right_motor.rotate_forward()\n",
    "\n",
    "    def turn_right(self):\n",
    "        self.left_motor.rotate_forward()\n",
    "        self.right_motor.rotate_backward()\n",
    "\n",
    "    def stop(self):\n",
    "        self.left_motor.stop()\n",
    "        self.right_motor.stop()\n",
    "    "
   ]
  },
  {
   "cell_type": "code",
   "execution_count": 4,
   "metadata": {},
   "outputs": [],
   "source": [
    "jduck = JDuck()"
   ]
  },
  {
   "cell_type": "code",
   "execution_count": 4,
   "metadata": {},
   "outputs": [],
   "source": [
    "jduck.set_speeds(50,50)"
   ]
  },
  {
   "cell_type": "code",
   "execution_count": 44,
   "metadata": {},
   "outputs": [],
   "source": [
    "jduck.move_forward()"
   ]
  },
  {
   "cell_type": "code",
   "execution_count": 45,
   "metadata": {},
   "outputs": [],
   "source": [
    "jduck.stop()"
   ]
  },
  {
   "cell_type": "code",
   "execution_count": 6,
   "metadata": {},
   "outputs": [
    {
     "data": {
      "application/vnd.jupyter.widget-view+json": {
       "model_id": "d390bd132b914ac9ae18c3952156d209",
       "version_major": 2,
       "version_minor": 0
      },
      "text/plain": [
       "Controller()"
      ]
     },
     "metadata": {},
     "output_type": "display_data"
    }
   ],
   "source": [
    "import ipywidgets.widgets as widgets\n",
    "\n",
    "controller = widgets.Controller(index=0)  # replace with index of your controller\n",
    "\n",
    "display(controller)"
   ]
  },
  {
   "cell_type": "code",
   "execution_count": 10,
   "metadata": {},
   "outputs": [],
   "source": [
    "left_link = traitlets.dlink((controller.axes[1], 'value'), (jduck.left_motor, 'value'))\n",
    "right_link = traitlets.dlink((controller.axes[3], 'value'), (jduck.right_motor, 'value'))"
   ]
  },
  {
   "cell_type": "code",
   "execution_count": 17,
   "metadata": {},
   "outputs": [
    {
     "ename": "ValueError",
     "evalue": "list.remove(x): x not in list",
     "output_type": "error",
     "traceback": [
      "\u001b[0;31m\u001b[0m",
      "\u001b[0;31mValueError\u001b[0mTraceback (most recent call last)",
      "\u001b[0;32m<ipython-input-17-30ca8a2e1805>\u001b[0m in \u001b[0;36m<module>\u001b[0;34m\u001b[0m\n\u001b[0;32m----> 1\u001b[0;31m \u001b[0mleft_link\u001b[0m\u001b[0;34m.\u001b[0m\u001b[0munlink\u001b[0m\u001b[0;34m(\u001b[0m\u001b[0;34m)\u001b[0m\u001b[0;34m\u001b[0m\u001b[0;34m\u001b[0m\u001b[0m\n\u001b[0m\u001b[1;32m      2\u001b[0m \u001b[0mright_link\u001b[0m\u001b[0;34m.\u001b[0m\u001b[0munlink\u001b[0m\u001b[0;34m(\u001b[0m\u001b[0;34m)\u001b[0m\u001b[0;34m\u001b[0m\u001b[0;34m\u001b[0m\u001b[0m\n",
      "\u001b[0;32m/usr/local/lib/python3.6/dist-packages/traitlets/traitlets.py\u001b[0m in \u001b[0;36munlink\u001b[0;34m(self)\u001b[0m\n\u001b[1;32m    362\u001b[0m \u001b[0;34m\u001b[0m\u001b[0m\n\u001b[1;32m    363\u001b[0m     \u001b[0;32mdef\u001b[0m \u001b[0munlink\u001b[0m\u001b[0;34m(\u001b[0m\u001b[0mself\u001b[0m\u001b[0;34m)\u001b[0m\u001b[0;34m:\u001b[0m\u001b[0;34m\u001b[0m\u001b[0;34m\u001b[0m\u001b[0m\n\u001b[0;32m--> 364\u001b[0;31m         \u001b[0mself\u001b[0m\u001b[0;34m.\u001b[0m\u001b[0msource\u001b[0m\u001b[0;34m[\u001b[0m\u001b[0;36m0\u001b[0m\u001b[0;34m]\u001b[0m\u001b[0;34m.\u001b[0m\u001b[0munobserve\u001b[0m\u001b[0;34m(\u001b[0m\u001b[0mself\u001b[0m\u001b[0;34m.\u001b[0m\u001b[0m_update\u001b[0m\u001b[0;34m,\u001b[0m \u001b[0mnames\u001b[0m\u001b[0;34m=\u001b[0m\u001b[0mself\u001b[0m\u001b[0;34m.\u001b[0m\u001b[0msource\u001b[0m\u001b[0;34m[\u001b[0m\u001b[0;36m1\u001b[0m\u001b[0;34m]\u001b[0m\u001b[0;34m)\u001b[0m\u001b[0;34m\u001b[0m\u001b[0;34m\u001b[0m\u001b[0m\n\u001b[0m\u001b[1;32m    365\u001b[0m \u001b[0;34m\u001b[0m\u001b[0m\n\u001b[1;32m    366\u001b[0m \u001b[0mdlink\u001b[0m \u001b[0;34m=\u001b[0m \u001b[0mdirectional_link\u001b[0m\u001b[0;34m\u001b[0m\u001b[0;34m\u001b[0m\u001b[0m\n",
      "\u001b[0;32m/usr/local/lib/python3.6/dist-packages/traitlets/traitlets.py\u001b[0m in \u001b[0;36munobserve\u001b[0;34m(self, handler, names, type)\u001b[0m\n\u001b[1;32m   1360\u001b[0m         \u001b[0mnames\u001b[0m \u001b[0;34m=\u001b[0m \u001b[0mparse_notifier_name\u001b[0m\u001b[0;34m(\u001b[0m\u001b[0mnames\u001b[0m\u001b[0;34m)\u001b[0m\u001b[0;34m\u001b[0m\u001b[0;34m\u001b[0m\u001b[0m\n\u001b[1;32m   1361\u001b[0m         \u001b[0;32mfor\u001b[0m \u001b[0mn\u001b[0m \u001b[0;32min\u001b[0m \u001b[0mnames\u001b[0m\u001b[0;34m:\u001b[0m\u001b[0;34m\u001b[0m\u001b[0;34m\u001b[0m\u001b[0m\n\u001b[0;32m-> 1362\u001b[0;31m             \u001b[0mself\u001b[0m\u001b[0;34m.\u001b[0m\u001b[0m_remove_notifiers\u001b[0m\u001b[0;34m(\u001b[0m\u001b[0mhandler\u001b[0m\u001b[0;34m,\u001b[0m \u001b[0mn\u001b[0m\u001b[0;34m,\u001b[0m \u001b[0mtype\u001b[0m\u001b[0;34m)\u001b[0m\u001b[0;34m\u001b[0m\u001b[0;34m\u001b[0m\u001b[0m\n\u001b[0m\u001b[1;32m   1363\u001b[0m \u001b[0;34m\u001b[0m\u001b[0m\n\u001b[1;32m   1364\u001b[0m     \u001b[0;32mdef\u001b[0m \u001b[0munobserve_all\u001b[0m\u001b[0;34m(\u001b[0m\u001b[0mself\u001b[0m\u001b[0;34m,\u001b[0m \u001b[0mname\u001b[0m\u001b[0;34m=\u001b[0m\u001b[0mAll\u001b[0m\u001b[0;34m)\u001b[0m\u001b[0;34m:\u001b[0m\u001b[0;34m\u001b[0m\u001b[0;34m\u001b[0m\u001b[0m\n",
      "\u001b[0;32m/usr/local/lib/python3.6/dist-packages/traitlets/traitlets.py\u001b[0m in \u001b[0;36m_remove_notifiers\u001b[0;34m(self, handler, name, type)\u001b[0m\n\u001b[1;32m   1270\u001b[0m                 \u001b[0;32mdel\u001b[0m \u001b[0mself\u001b[0m\u001b[0;34m.\u001b[0m\u001b[0m_trait_notifiers\u001b[0m\u001b[0;34m[\u001b[0m\u001b[0mname\u001b[0m\u001b[0;34m]\u001b[0m\u001b[0;34m[\u001b[0m\u001b[0mtype\u001b[0m\u001b[0;34m]\u001b[0m\u001b[0;34m\u001b[0m\u001b[0;34m\u001b[0m\u001b[0m\n\u001b[1;32m   1271\u001b[0m             \u001b[0;32melse\u001b[0m\u001b[0;34m:\u001b[0m\u001b[0;34m\u001b[0m\u001b[0;34m\u001b[0m\u001b[0m\n\u001b[0;32m-> 1272\u001b[0;31m                 \u001b[0mself\u001b[0m\u001b[0;34m.\u001b[0m\u001b[0m_trait_notifiers\u001b[0m\u001b[0;34m[\u001b[0m\u001b[0mname\u001b[0m\u001b[0;34m]\u001b[0m\u001b[0;34m[\u001b[0m\u001b[0mtype\u001b[0m\u001b[0;34m]\u001b[0m\u001b[0;34m.\u001b[0m\u001b[0mremove\u001b[0m\u001b[0;34m(\u001b[0m\u001b[0mhandler\u001b[0m\u001b[0;34m)\u001b[0m\u001b[0;34m\u001b[0m\u001b[0;34m\u001b[0m\u001b[0m\n\u001b[0m\u001b[1;32m   1273\u001b[0m         \u001b[0;32mexcept\u001b[0m \u001b[0mKeyError\u001b[0m\u001b[0;34m:\u001b[0m\u001b[0;34m\u001b[0m\u001b[0;34m\u001b[0m\u001b[0m\n\u001b[1;32m   1274\u001b[0m             \u001b[0;32mpass\u001b[0m\u001b[0;34m\u001b[0m\u001b[0;34m\u001b[0m\u001b[0m\n",
      "\u001b[0;31mValueError\u001b[0m: list.remove(x): x not in list"
     ]
    }
   ],
   "source": [
    "left_link.unlink()\n",
    "right_link.unlink()"
   ]
  },
  {
   "cell_type": "code",
   "execution_count": 7,
   "metadata": {},
   "outputs": [
    {
     "data": {
      "application/vnd.jupyter.widget-view+json": {
       "model_id": "4fb50c67ec404d6b8d30b2cc69150134",
       "version_major": 2,
       "version_minor": 0
      },
      "text/plain": [
       "HBox(children=(FloatSlider(value=0.0, description='speed', max=1.0, orientation='vertical', step=0.01), Button…"
      ]
     },
     "metadata": {},
     "output_type": "display_data"
    }
   ],
   "source": [
    "# create two sliders with range [-1.0, 1.0]\n",
    "jduck_speed_slider = widgets.FloatSlider(description='speed', min=0.0, max=1.0, step=0.01, orientation='vertical')\n",
    "# create a horizontal box container to place the sliders next to each other\n",
    "# display the container in this cell's output\n",
    "# display(slider_container)\n",
    "# create buttons\n",
    "button_layout = widgets.Layout(width='100px', height='80px', align_self='center')\n",
    "stop_button = widgets.Button(description='stop', button_style='danger', layout=button_layout)\n",
    "forward_button = widgets.Button(description='forward', layout=button_layout)\n",
    "backward_button = widgets.Button(description='backward', layout=button_layout)\n",
    "left_button = widgets.Button(description='left', layout=button_layout)\n",
    "right_button = widgets.Button(description='right', layout=button_layout)\n",
    "\n",
    "# display buttons\n",
    "# middle_box = widgets.HBox([left_button, stop_button, right_button], layout=widgets.Layout(align_self='center'))\n",
    "# slider_container = widgets.HBox([left_speed_slider, right_speed_slider])\n",
    "# controls_box = widgets.VBox([forward_button, middle_box, backward_button, slider_container])\n",
    "middle_box = widgets.VBox([forward_button, stop_button, backward_button], layout=widgets.Layout(align_self='center'))\n",
    "controls_box = widgets.HBox([jduck_speed_slider,left_button, middle_box, right_button])\n",
    "display(controls_box)\n",
    "\n",
    "def stop(change):\n",
    "    jduck.stop()\n",
    "    \n",
    "def move_forward(change):\n",
    "    jduck.move_forward()\n",
    "    time.sleep(0.5)\n",
    "\n",
    "def move_backward(change):\n",
    "    jduck.move_backward()\n",
    "    time.sleep(0.5)\n",
    "\n",
    "def turn_left(change):\n",
    "    jduck.turn_left()\n",
    "    time.sleep(0.1)\n",
    "    jduck.stop()\n",
    "\n",
    "def turn_right(change):\n",
    "    jduck.turn_right()\n",
    "    time.sleep(0.1)\n",
    "    jduck.stop()\n",
    "# link buttons to actions\n",
    "left_link = traitlets.dlink((jduck_speed_slider, 'value'), (jduck.left_motor, 'value'))\n",
    "right_link = traitlets.dlink((jduck_speed_slider, 'value'), (jduck.right_motor, 'value'))\n",
    "stop_button.on_click(stop)\n",
    "forward_button.on_click(move_forward)\n",
    "backward_button.on_click(move_backward)\n",
    "left_button.on_click(turn_left)\n",
    "right_button.on_click(turn_right)"
   ]
  },
  {
   "cell_type": "code",
   "execution_count": 26,
   "metadata": {},
   "outputs": [],
   "source": []
  },
  {
   "cell_type": "code",
   "execution_count": 60,
   "metadata": {},
   "outputs": [],
   "source": []
  },
  {
   "cell_type": "code",
   "execution_count": 8,
   "metadata": {},
   "outputs": [],
   "source": [
    "left_link = traitlets.dlink((controller.axes[1], 'value'), (left_motor, 'value'))\n",
    "right_link = traitlets.dlink((controller.axes[3], 'value'), (right_motor, 'value'))"
   ]
  },
  {
   "cell_type": "code",
   "execution_count": null,
   "metadata": {},
   "outputs": [],
   "source": []
  }
 ],
 "metadata": {
  "kernelspec": {
   "display_name": "Python 3",
   "language": "python",
   "name": "python3"
  },
  "language_info": {
   "codemirror_mode": {
    "name": "ipython",
    "version": 3
   },
   "file_extension": ".py",
   "mimetype": "text/x-python",
   "name": "python",
   "nbconvert_exporter": "python",
   "pygments_lexer": "ipython3",
   "version": "3.6.9"
  }
 },
 "nbformat": 4,
 "nbformat_minor": 4
}
